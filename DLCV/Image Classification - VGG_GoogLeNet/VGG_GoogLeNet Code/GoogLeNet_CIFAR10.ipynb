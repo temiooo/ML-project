{
  "cells": [
    {
      "cell_type": "code",
      "execution_count": null,
      "id": "95ae4b1d-2a96-42b8-8244-30cfb45d11d0",
      "metadata": {
        "id": "95ae4b1d-2a96-42b8-8244-30cfb45d11d0",
        "tags": [],
        "colab": {
          "base_uri": "https://localhost:8080/"
        },
        "outputId": "a09fc467-1317-40a2-bb2d-1a8e34b68760"
      },
      "outputs": [
        {
          "output_type": "stream",
          "name": "stdout",
          "text": [
            "Looking in indexes: https://pypi.org/simple, https://us-python.pkg.dev/colab-wheels/public/simple/\n",
            "Collecting wandb\n",
            "  Downloading wandb-0.15.2-py3-none-any.whl (2.0 MB)\n",
            "\u001b[2K     \u001b[90m━━━━━━━━━━━━━━━━━━━━━━━━━━━━━━━━━━━━━━━━\u001b[0m \u001b[32m2.0/2.0 MB\u001b[0m \u001b[31m22.0 MB/s\u001b[0m eta \u001b[36m0:00:00\u001b[0m\n",
            "\u001b[?25hRequirement already satisfied: Click!=8.0.0,>=7.0 in /usr/local/lib/python3.10/dist-packages (from wandb) (8.1.3)\n",
            "Collecting GitPython!=3.1.29,>=1.0.0 (from wandb)\n",
            "  Downloading GitPython-3.1.31-py3-none-any.whl (184 kB)\n",
            "\u001b[2K     \u001b[90m━━━━━━━━━━━━━━━━━━━━━━━━━━━━━━━━━━━━━━\u001b[0m \u001b[32m184.3/184.3 kB\u001b[0m \u001b[31m21.6 MB/s\u001b[0m eta \u001b[36m0:00:00\u001b[0m\n",
            "\u001b[?25hRequirement already satisfied: requests<3,>=2.0.0 in /usr/local/lib/python3.10/dist-packages (from wandb) (2.27.1)\n",
            "Requirement already satisfied: psutil>=5.0.0 in /usr/local/lib/python3.10/dist-packages (from wandb) (5.9.5)\n",
            "Collecting sentry-sdk>=1.0.0 (from wandb)\n",
            "  Downloading sentry_sdk-1.22.2-py2.py3-none-any.whl (203 kB)\n",
            "\u001b[2K     \u001b[90m━━━━━━━━━━━━━━━━━━━━━━━━━━━━━━━━━━━━━━\u001b[0m \u001b[32m203.3/203.3 kB\u001b[0m \u001b[31m21.8 MB/s\u001b[0m eta \u001b[36m0:00:00\u001b[0m\n",
            "\u001b[?25hCollecting docker-pycreds>=0.4.0 (from wandb)\n",
            "  Downloading docker_pycreds-0.4.0-py2.py3-none-any.whl (9.0 kB)\n",
            "Requirement already satisfied: PyYAML in /usr/local/lib/python3.10/dist-packages (from wandb) (6.0)\n",
            "Collecting pathtools (from wandb)\n",
            "  Downloading pathtools-0.1.2.tar.gz (11 kB)\n",
            "  Preparing metadata (setup.py) ... \u001b[?25l\u001b[?25hdone\n",
            "Collecting setproctitle (from wandb)\n",
            "  Downloading setproctitle-1.3.2-cp310-cp310-manylinux_2_5_x86_64.manylinux1_x86_64.manylinux_2_17_x86_64.manylinux2014_x86_64.whl (30 kB)\n",
            "Requirement already satisfied: setuptools in /usr/local/lib/python3.10/dist-packages (from wandb) (67.7.2)\n",
            "Requirement already satisfied: appdirs>=1.4.3 in /usr/local/lib/python3.10/dist-packages (from wandb) (1.4.4)\n",
            "Requirement already satisfied: protobuf!=4.21.0,<5,>=3.19.0 in /usr/local/lib/python3.10/dist-packages (from wandb) (3.20.3)\n",
            "Requirement already satisfied: six>=1.4.0 in /usr/local/lib/python3.10/dist-packages (from docker-pycreds>=0.4.0->wandb) (1.16.0)\n",
            "Collecting gitdb<5,>=4.0.1 (from GitPython!=3.1.29,>=1.0.0->wandb)\n",
            "  Downloading gitdb-4.0.10-py3-none-any.whl (62 kB)\n",
            "\u001b[2K     \u001b[90m━━━━━━━━━━━━━━━━━━━━━━━━━━━━━━━━━━━━━━━━\u001b[0m \u001b[32m62.7/62.7 kB\u001b[0m \u001b[31m8.6 MB/s\u001b[0m eta \u001b[36m0:00:00\u001b[0m\n",
            "\u001b[?25hRequirement already satisfied: urllib3<1.27,>=1.21.1 in /usr/local/lib/python3.10/dist-packages (from requests<3,>=2.0.0->wandb) (1.26.15)\n",
            "Requirement already satisfied: certifi>=2017.4.17 in /usr/local/lib/python3.10/dist-packages (from requests<3,>=2.0.0->wandb) (2022.12.7)\n",
            "Requirement already satisfied: charset-normalizer~=2.0.0 in /usr/local/lib/python3.10/dist-packages (from requests<3,>=2.0.0->wandb) (2.0.12)\n",
            "Requirement already satisfied: idna<4,>=2.5 in /usr/local/lib/python3.10/dist-packages (from requests<3,>=2.0.0->wandb) (3.4)\n",
            "Collecting smmap<6,>=3.0.1 (from gitdb<5,>=4.0.1->GitPython!=3.1.29,>=1.0.0->wandb)\n",
            "  Downloading smmap-5.0.0-py3-none-any.whl (24 kB)\n",
            "Building wheels for collected packages: pathtools\n",
            "  Building wheel for pathtools (setup.py) ... \u001b[?25l\u001b[?25hdone\n",
            "  Created wheel for pathtools: filename=pathtools-0.1.2-py3-none-any.whl size=8791 sha256=d9af2f021c10a7827dfe124972a4f915e250e1e4f1d29ee5da6b603d6de3c281\n",
            "  Stored in directory: /root/.cache/pip/wheels/e7/f3/22/152153d6eb222ee7a56ff8617d80ee5207207a8c00a7aab794\n",
            "Successfully built pathtools\n",
            "Installing collected packages: pathtools, smmap, setproctitle, sentry-sdk, docker-pycreds, gitdb, GitPython, wandb\n",
            "Successfully installed GitPython-3.1.31 docker-pycreds-0.4.0 gitdb-4.0.10 pathtools-0.1.2 sentry-sdk-1.22.2 setproctitle-1.3.2 smmap-5.0.0 wandb-0.15.2\n"
          ]
        }
      ],
      "source": [
        "# Install wandb for saving training logs\n",
        "!pip install wandb"
      ]
    },
    {
      "cell_type": "code",
      "execution_count": null,
      "id": "638a329a-3c5e-4c6b-884b-5d1cc29692a2",
      "metadata": {
        "id": "638a329a-3c5e-4c6b-884b-5d1cc29692a2",
        "tags": []
      },
      "outputs": [],
      "source": [
        "import os\n",
        "import time\n",
        "from tqdm import tqdm\n",
        "import wandb\n",
        "import numpy as np\n",
        "import matplotlib.pyplot as plt\n",
        "\n",
        "import torch\n",
        "import torch.nn.init as init\n",
        "import torch.nn as nn\n",
        "import torch.nn.functional as F\n",
        "import torch.optim as optim\n",
        "import torch.optim.lr_scheduler as lr_scheduler\n",
        "from torch.utils.data import DataLoader\n",
        "\n",
        "import torchvision\n",
        "import torchvision.datasets as datasets\n",
        "import torchvision.transforms as transforms"
      ]
    },
    {
      "cell_type": "code",
      "execution_count": null,
      "id": "94b4fe0f-0914-4e37-9266-edfad35d357a",
      "metadata": {
        "id": "94b4fe0f-0914-4e37-9266-edfad35d357a",
        "tags": []
      },
      "outputs": [],
      "source": [
        "class GoogLeNet(nn.Module):\n",
        "    def __init__(self, num_classes):\n",
        "        super(GoogLeNet, self).__init__()\n",
        "        \n",
        "        self.conv1 = ConvBlock(3, 64, kernel_size=7, stride=2, padding=3)\n",
        "        self.maxpool = nn.MaxPool2d(kernel_size=3, stride=2, padding=1)\n",
        "        self.conv2 = nn.Sequential(\n",
        "            ConvBlock(64, 64, kernel_size=1, stride=1, padding=0),\n",
        "            ConvBlock(64, 192, kernel_size=3, stride=1, padding=1),\n",
        "        )\n",
        "\n",
        "        self.inception3a = InceptionBlock(192, 64, 96, 128, 16, 32, 32)\n",
        "        self.inception3b = InceptionBlock(256, 128, 128, 192, 32, 96, 64)\n",
        "        \n",
        "        self.inception4a = InceptionBlock(480, 192, 96, 208, 16, 48, 64)\n",
        "        self.inception4b = InceptionBlock(512, 160, 112, 224, 24, 64, 64)\n",
        "        self.inception4c = InceptionBlock(512, 128, 128, 256, 24, 64, 64)\n",
        "        self.inception4d = InceptionBlock(512, 112, 144, 288, 32, 64, 64)\n",
        "        self.inception4e = InceptionBlock(528, 256, 160, 320, 32, 128, 128)\n",
        "        \n",
        "        self.inception5a = InceptionBlock(832, 256, 160, 320, 32, 128, 128)\n",
        "        self.inception5b = InceptionBlock(832, 384, 192, 384, 48, 128, 128)\n",
        "        \n",
        "        self.avgpool = nn.AvgPool2d(kernel_size=7, stride=1)\n",
        "        self.dropout = nn.Dropout(p=0.4)\n",
        "        self.fc = nn.Linear(in_features=1024, out_features=num_classes)\n",
        "        \n",
        "        # Initialise weights\n",
        "        for m in self.modules():\n",
        "            if isinstance(m, nn.Conv2d):\n",
        "                init.xavier_uniform_(m.weight)\n",
        "                if m.bias is not None:\n",
        "                    init.constant_(m.bias, 0)\n",
        "            elif isinstance(m, nn.Linear):\n",
        "                init.xavier_uniform_(m.weight)\n",
        "                init.constant_(m.bias, 0)\n",
        "            elif isinstance(m, nn.BatchNorm2d):\n",
        "                nn.init.constant_(m.weight, 1)\n",
        "                nn.init.constant_(m.bias, 0)\n",
        "\n",
        "        \n",
        "    def forward(self, input):\n",
        "        x = self.conv1(input)\n",
        "        x = self.maxpool(x)\n",
        "        x = self.conv2(x)\n",
        "        x = self.maxpool(x)\n",
        "        x = self.inception3a(x)\n",
        "        x = self.inception3b(x)\n",
        "        x = self.maxpool(x)\n",
        "        x = self.inception4a(x)\n",
        "        x = self.inception4b(x)\n",
        "        x = self.inception4c(x)\n",
        "        x = self.inception4d(x)\n",
        "        x = self.inception4e(x)\n",
        "        x = self.maxpool(x)\n",
        "        x = self.inception5a(x)\n",
        "        x = self.inception5b(x)\n",
        "        x = self.avgpool(x)\n",
        "        x = torch.reshape(x, (x.shape[0], -1))\n",
        "        x = self.dropout(x)\n",
        "        x = self.fc(x)\n",
        "        \n",
        "        x = F.log_softmax(x, dim=1)\n",
        "        return x\n",
        "    \n",
        "\n",
        "class InceptionBlock(nn.Module):\n",
        "    def __init__(self, in_channels, out1, out3red, out3, out5red, out5, out1pool):\n",
        "        super(InceptionBlock, self).__init__()\n",
        "\n",
        "        self.branch1 = ConvBlock(in_channels, out1, kernel_size=1)\n",
        "        \n",
        "        self.branch2 = nn.Sequential(\n",
        "            ConvBlock(in_channels, out3red, kernel_size=1),\n",
        "            ConvBlock(out3red, out3, kernel_size=3, padding=1)\n",
        "        )\n",
        "        \n",
        "        self.branch3 = nn.Sequential(\n",
        "            ConvBlock(in_channels, out5red, kernel_size=1),\n",
        "            ConvBlock(out5red, out5, kernel_size=5, padding=2)\n",
        "        )\n",
        "        \n",
        "        self.branch4 = nn.Sequential(\n",
        "            nn.MaxPool2d(kernel_size=3, stride=1, padding=1),\n",
        "            ConvBlock(in_channels, out1pool, kernel_size=1)\n",
        "        )\n",
        "        \n",
        "    def forward(self, input):\n",
        "        branch1 = self.branch1(input)\n",
        "        branch2 = self.branch2(input)\n",
        "        branch3 = self.branch3(input)\n",
        "        branch4 = self.branch4(input)\n",
        "    \n",
        "        result = torch.cat((branch1, branch2, branch3, branch4), dim=1)\n",
        "        return result\n",
        "    \n",
        "    \n",
        "class ConvBlock(nn.Module):\n",
        "    def __init__(self, in_channels, out_channels, **kwargs):\n",
        "        super(ConvBlock, self).__init__()\n",
        "        self.conv = nn.Conv2d(in_channels, out_channels, **kwargs)\n",
        "        self.relu = nn.ReLU()\n",
        "        self.bn = nn.BatchNorm2d(out_channels)\n",
        "    \n",
        "    def forward(self, input):\n",
        "        x = self.conv(input)\n",
        "        x = self.bn(x)\n",
        "        x = self.relu(x)\n",
        "        return x"
      ]
    },
    {
      "cell_type": "code",
      "execution_count": null,
      "id": "5f6a616d-8642-4c52-b356-f2bd61227461",
      "metadata": {
        "id": "5f6a616d-8642-4c52-b356-f2bd61227461",
        "tags": []
      },
      "outputs": [],
      "source": [
        "# Initialise the device for training, if gpu is available, device = 'cuda', else: device = 'cpu'\n",
        "device = torch.device('cuda' if torch.cuda.is_available() else 'cpu')\n",
        "\n",
        "# training parameters\n",
        "epochs = 30\n",
        "batch_size = 64\n",
        "learning_rate = 0.01\n",
        "momentum = 0.9\n",
        "weight_decay = 5*10e-4\n",
        "\n",
        "# Declare the network\n",
        "model = GoogLeNet(10).to(device)\n",
        "\n",
        "# Loss function - Cross Entropy \n",
        "loss_fn = nn.CrossEntropyLoss().to(device)\n",
        "\n",
        "# Optimizer - Stochastic Gradient Descent\n",
        "optimizer = torch.optim.SGD(model.parameters(), lr = learning_rate, momentum=momentum, weight_decay=weight_decay)\n",
        "scheduler = lr_scheduler.StepLR(optimizer, step_size=5, gamma=0.1)\n",
        "# .MultiStepLR(optimizer, milestones=[5,10], gamma=0.1)"
      ]
    },
    {
      "cell_type": "code",
      "execution_count": null,
      "id": "d912a37c-95ff-4c46-afd5-023363467bf2",
      "metadata": {
        "tags": [],
        "colab": {
          "base_uri": "https://localhost:8080/"
        },
        "id": "d912a37c-95ff-4c46-afd5-023363467bf2",
        "outputId": "67b25be9-8ce0-4a9c-f0fd-074bc11dd3d6"
      },
      "outputs": [
        {
          "output_type": "stream",
          "name": "stdout",
          "text": [
            "Downloading https://www.cs.toronto.edu/~kriz/cifar-10-python.tar.gz to ./cifar-10-python.tar.gz\n"
          ]
        },
        {
          "output_type": "stream",
          "name": "stderr",
          "text": [
            "100%|██████████| 170498071/170498071 [00:12<00:00, 13736892.25it/s]\n"
          ]
        },
        {
          "output_type": "stream",
          "name": "stdout",
          "text": [
            "Extracting ./cifar-10-python.tar.gz to .\n",
            "Files already downloaded and verified\n"
          ]
        }
      ],
      "source": [
        "# Construct the dataset and data loader\n",
        "train_transform = transforms.Compose([\n",
        "    transforms.ToTensor(),\n",
        "    transforms.Normalize((0.49, 0.48, 0.45), (0.25, 0.24, 0.26)),\n",
        "    transforms.Resize((224, 224)),\n",
        "    transforms.RandomHorizontalFlip(),\n",
        "])\n",
        "\n",
        "test_transform = transforms.Compose([\n",
        "    transforms.ToTensor(),\n",
        "    transforms.Normalize((0.49, 0.48, 0.45), (0.25, 0.24, 0.26)),\n",
        "    transforms.Resize((224, 224)),\n",
        "])\n",
        "\n",
        "train_data = datasets.CIFAR10(root='.', train=True, download=True, transform=train_transform)\n",
        "test_data = datasets.CIFAR10(root='.', train=False, download=True, transform=test_transform)\n",
        "\n",
        "train_dataloader = DataLoader(dataset=train_data, batch_size=batch_size, shuffle=True)\n",
        "test_dataloader = DataLoader(dataset=test_data, batch_size=batch_size, shuffle=False)"
      ]
    },
    {
      "cell_type": "code",
      "execution_count": null,
      "id": "7337032a-275e-4733-a6a1-d8f71e46f850",
      "metadata": {
        "tags": [],
        "colab": {
          "base_uri": "https://localhost:8080/",
          "height": 208
        },
        "id": "7337032a-275e-4733-a6a1-d8f71e46f850",
        "outputId": "2d72ba42-1bbb-4b10-ff82-178ad0e4a0bb"
      },
      "outputs": [
        {
          "output_type": "display_data",
          "data": {
            "text/plain": [
              "<IPython.core.display.Javascript object>"
            ],
            "application/javascript": [
              "\n",
              "        window._wandbApiKey = new Promise((resolve, reject) => {\n",
              "            function loadScript(url) {\n",
              "            return new Promise(function(resolve, reject) {\n",
              "                let newScript = document.createElement(\"script\");\n",
              "                newScript.onerror = reject;\n",
              "                newScript.onload = resolve;\n",
              "                document.body.appendChild(newScript);\n",
              "                newScript.src = url;\n",
              "            });\n",
              "            }\n",
              "            loadScript(\"https://cdn.jsdelivr.net/npm/postmate/build/postmate.min.js\").then(() => {\n",
              "            const iframe = document.createElement('iframe')\n",
              "            iframe.style.cssText = \"width:0;height:0;border:none\"\n",
              "            document.body.appendChild(iframe)\n",
              "            const handshake = new Postmate({\n",
              "                container: iframe,\n",
              "                url: 'https://wandb.ai/authorize'\n",
              "            });\n",
              "            const timeout = setTimeout(() => reject(\"Couldn't auto authenticate\"), 5000)\n",
              "            handshake.then(function(child) {\n",
              "                child.on('authorize', data => {\n",
              "                    clearTimeout(timeout)\n",
              "                    resolve(data)\n",
              "                });\n",
              "            });\n",
              "            })\n",
              "        });\n",
              "    "
            ]
          },
          "metadata": {}
        },
        {
          "output_type": "stream",
          "name": "stderr",
          "text": [
            "\u001b[34m\u001b[1mwandb\u001b[0m: Logging into wandb.ai. (Learn how to deploy a W&B server locally: https://wandb.me/wandb-server)\n",
            "\u001b[34m\u001b[1mwandb\u001b[0m: You can find your API key in your browser here: https://wandb.ai/authorize\n",
            "wandb: Paste an API key from your profile and hit enter, or press ctrl+c to quit:"
          ]
        },
        {
          "name": "stdout",
          "output_type": "stream",
          "text": [
            " ··········\n"
          ]
        },
        {
          "output_type": "stream",
          "name": "stderr",
          "text": [
            "\u001b[34m\u001b[1mwandb\u001b[0m: Appending key for api.wandb.ai to your netrc file: /root/.netrc\n",
            "\u001b[34m\u001b[1mwandb\u001b[0m: Currently logged in as: \u001b[33mtemitope-joloko\u001b[0m. Use \u001b[1m`wandb login --relogin`\u001b[0m to force relogin\n"
          ]
        },
        {
          "output_type": "display_data",
          "data": {
            "text/plain": [
              "<IPython.core.display.HTML object>"
            ],
            "text/html": [
              "Tracking run with wandb version 0.15.2"
            ]
          },
          "metadata": {}
        },
        {
          "output_type": "display_data",
          "data": {
            "text/plain": [
              "<IPython.core.display.HTML object>"
            ],
            "text/html": [
              "Run data is saved locally in <code>/content/wandb/run-20230511_165946-he2r0uac</code>"
            ]
          },
          "metadata": {}
        },
        {
          "output_type": "display_data",
          "data": {
            "text/plain": [
              "<IPython.core.display.HTML object>"
            ],
            "text/html": [
              "Syncing run <strong><a href='https://wandb.ai/temitope-joloko/GoogLeNet-CIFAR10/runs/he2r0uac' target=\"_blank\">serene-oath-31</a></strong> to <a href='https://wandb.ai/temitope-joloko/GoogLeNet-CIFAR10' target=\"_blank\">Weights & Biases</a> (<a href='https://wandb.me/run' target=\"_blank\">docs</a>)<br/>"
            ]
          },
          "metadata": {}
        },
        {
          "output_type": "display_data",
          "data": {
            "text/plain": [
              "<IPython.core.display.HTML object>"
            ],
            "text/html": [
              " View project at <a href='https://wandb.ai/temitope-joloko/GoogLeNet-CIFAR10' target=\"_blank\">https://wandb.ai/temitope-joloko/GoogLeNet-CIFAR10</a>"
            ]
          },
          "metadata": {}
        },
        {
          "output_type": "display_data",
          "data": {
            "text/plain": [
              "<IPython.core.display.HTML object>"
            ],
            "text/html": [
              " View run at <a href='https://wandb.ai/temitope-joloko/GoogLeNet-CIFAR10/runs/he2r0uac' target=\"_blank\">https://wandb.ai/temitope-joloko/GoogLeNet-CIFAR10/runs/he2r0uac</a>"
            ]
          },
          "metadata": {}
        }
      ],
      "source": [
        "# Login to wandb\n",
        "wandb.login()\n",
        "\n",
        "# Initialize wandb\n",
        "run = wandb.init(\n",
        "    # set the wandb project where this run will be logged\n",
        "    project=\"GoogLeNet-CIFAR10\",\n",
        "    \n",
        "    # track hyperparameters and run metadata\n",
        "    config={\n",
        "        \"architecture\": \"GoogLeNet\",\n",
        "        \"dataset\": \"CIFAR10\",\n",
        "        \"epochs\": epochs,\n",
        "        \"batch_size\": batch_size,\n",
        "        \"learning_rate\": learning_rate,\n",
        "        \"momentum\": \"none\",\n",
        "        \"with relu\":\"yes\",\n",
        "        \"data-augmentation\": \"rhflip 0.5\",\n",
        "        \"others\": \"dropout 0.4, scheduler 5, 0.1 gamma. batch norm weight init\",\n",
        "        \"optimizer\": \"sgd\",\n",
        "        \"softmax\": \"yes\",\n",
        "        \"weight deacy\":\"yes\",\n",
        "    }\n",
        ")\n",
        "\n",
        "# Keep track of training and test loss\n",
        "total_loss = [[], [], []]\n"
      ]
    },
    {
      "cell_type": "code",
      "execution_count": null,
      "id": "LtP6XFhiiGiK",
      "metadata": {
        "id": "LtP6XFhiiGiK",
        "tags": []
      },
      "outputs": [],
      "source": [
        "def train_loop(dataloader, model, loss_fn, optimizer):\n",
        "    size = len(dataloader.dataset)\n",
        "    running_loss = []\n",
        "\n",
        "    for (images, labels) in tqdm(dataloader):\n",
        "        images = images.to(device)\n",
        "        labels = labels.to(device)\n",
        "\n",
        "        # Compute prediction and loss\n",
        "        pred = model(images)\n",
        "        loss = loss_fn(pred, labels)\n",
        "\n",
        "        # Backpropagation\n",
        "        optimizer.zero_grad()\n",
        "        loss.backward()\n",
        "        optimizer.step()\n",
        "\n",
        "        running_loss.append(loss.item())\n",
        "    \n",
        "    scheduler.step()\n",
        "    epoch_loss = np.mean(running_loss)\n",
        "    print(f'loss: {epoch_loss:.3f}')\n",
        "    return epoch_loss\n",
        "\n",
        "\n",
        "def test_loop(dataloader, model, loss_fn):\n",
        "    size = len(dataloader.dataset)\n",
        "    num_batches = len(dataloader)\n",
        "    test_loss, correct, correct_5 = 0, 0, 0\n",
        "\n",
        "    with torch.no_grad():\n",
        "        for images, labels in dataloader:\n",
        "            images = images.to(device)\n",
        "            labels = labels.to(device)\n",
        "            pred = model(images)\n",
        "            \n",
        "            test_loss += loss_fn(pred, labels).item()\n",
        "            correct += (pred.argmax(1) == labels).type(torch.float).sum().item()\n",
        "            \n",
        "            # Calculate top-5 accuracy\n",
        "            _, pred_5 = pred.topk(5)\n",
        "\n",
        "            for i in range(len(labels)):\n",
        "                if labels[i] in pred_5[i]:\n",
        "                    correct_5 += 1\n",
        "\n",
        "    \n",
        "    test_loss /= num_batches\n",
        "    correct /= size\n",
        "    correct_5/=size\n",
        "    print(f\"Test Error: \\n Accuracy: {(100*correct):>0.1f}%, Top-5 Accuracy: {(100*correct_5):>0.1f}%, \\n Loss: {test_loss:>8f} \\n\")\n",
        "    \n",
        "    return test_loss, correct*100, correct_5*100"
      ]
    },
    {
      "cell_type": "code",
      "execution_count": null,
      "id": "nJlKcfOui3me",
      "metadata": {
        "colab": {
          "base_uri": "https://localhost:8080/"
        },
        "id": "nJlKcfOui3me",
        "outputId": "5d25ee62-340f-4ba8-b724-e842caf535ea",
        "tags": []
      },
      "outputs": [
        {
          "output_type": "stream",
          "name": "stdout",
          "text": [
            "Starting Training Loop...\n",
            "Epoch 1\n",
            "-------------------------------\n"
          ]
        },
        {
          "output_type": "stream",
          "name": "stderr",
          "text": [
            "\r  0%|          | 0/782 [00:00<?, ?it/s]/usr/local/lib/python3.10/dist-packages/torchvision/transforms/functional.py:1603: UserWarning: The default value of the antialias parameter of all the resizing transforms (Resize(), RandomResizedCrop(), etc.) will change from None to True in v0.17, in order to be consistent across the PIL and Tensor backends. To suppress this warning, directly pass antialias=True (recommended, future default), antialias=None (current default, which means False for Tensors and True for PIL), or antialias=False (only works on Tensors - PIL will still use antialiasing). This also applies if you are using the inference transforms from the models weights: update the call to weights.transforms(antialias=True).\n",
            "  warnings.warn(\n",
            "100%|██████████| 782/782 [02:29<00:00,  5.22it/s]\n"
          ]
        },
        {
          "output_type": "stream",
          "name": "stdout",
          "text": [
            "loss: 1.433\n",
            "Test Error: \n",
            " Accuracy: 60.6%, Top-5 Accuracy: 96.2%, \n",
            " Loss: 1.111807 \n",
            "\n",
            "current lr [0.01]\n",
            "Epoch 1 of 30 with 168.70 s\n",
            "Epoch 2\n",
            "-------------------------------\n"
          ]
        },
        {
          "output_type": "stream",
          "name": "stderr",
          "text": [
            "100%|██████████| 782/782 [02:21<00:00,  5.51it/s]\n"
          ]
        },
        {
          "output_type": "stream",
          "name": "stdout",
          "text": [
            "loss: 0.919\n",
            "Test Error: \n",
            " Accuracy: 73.0%, Top-5 Accuracy: 98.0%, \n",
            " Loss: 0.785417 \n",
            "\n",
            "current lr [0.01]\n",
            "Epoch 2 of 30 with 161.16 s\n",
            "Epoch 3\n",
            "-------------------------------\n"
          ]
        },
        {
          "output_type": "stream",
          "name": "stderr",
          "text": [
            "100%|██████████| 782/782 [02:21<00:00,  5.52it/s]\n"
          ]
        },
        {
          "output_type": "stream",
          "name": "stdout",
          "text": [
            "loss: 0.688\n",
            "Test Error: \n",
            " Accuracy: 76.8%, Top-5 Accuracy: 98.6%, \n",
            " Loss: 0.677298 \n",
            "\n",
            "current lr [0.01]\n",
            "Epoch 3 of 30 with 160.62 s\n",
            "Epoch 4\n",
            "-------------------------------\n"
          ]
        },
        {
          "output_type": "stream",
          "name": "stderr",
          "text": [
            "100%|██████████| 782/782 [02:21<00:00,  5.53it/s]\n"
          ]
        },
        {
          "output_type": "stream",
          "name": "stdout",
          "text": [
            "loss: 0.605\n",
            "Test Error: \n",
            " Accuracy: 79.1%, Top-5 Accuracy: 98.6%, \n",
            " Loss: 0.628081 \n",
            "\n",
            "current lr [0.01]\n",
            "Epoch 4 of 30 with 160.27 s\n",
            "Epoch 5\n",
            "-------------------------------\n"
          ]
        },
        {
          "output_type": "stream",
          "name": "stderr",
          "text": [
            "100%|██████████| 782/782 [02:21<00:00,  5.53it/s]\n"
          ]
        },
        {
          "output_type": "stream",
          "name": "stdout",
          "text": [
            "loss: 0.581\n",
            "Test Error: \n",
            " Accuracy: 79.8%, Top-5 Accuracy: 98.8%, \n",
            " Loss: 0.608084 \n",
            "\n",
            "current lr [0.001]\n",
            "Epoch 5 of 30 with 160.10 s\n",
            "Epoch 6\n",
            "-------------------------------\n"
          ]
        },
        {
          "output_type": "stream",
          "name": "stderr",
          "text": [
            "100%|██████████| 782/782 [02:21<00:00,  5.53it/s]\n"
          ]
        },
        {
          "output_type": "stream",
          "name": "stdout",
          "text": [
            "loss: 0.371\n",
            "Test Error: \n",
            " Accuracy: 87.4%, Top-5 Accuracy: 99.5%, \n",
            " Loss: 0.386161 \n",
            "\n",
            "current lr [0.001]\n",
            "Epoch 6 of 30 with 160.02 s\n",
            "Epoch 7\n",
            "-------------------------------\n"
          ]
        },
        {
          "output_type": "stream",
          "name": "stderr",
          "text": [
            "100%|██████████| 782/782 [02:21<00:00,  5.53it/s]\n"
          ]
        },
        {
          "output_type": "stream",
          "name": "stdout",
          "text": [
            "loss: 0.295\n",
            "Test Error: \n",
            " Accuracy: 88.3%, Top-5 Accuracy: 99.6%, \n",
            " Loss: 0.356539 \n",
            "\n",
            "current lr [0.001]\n",
            "Epoch 7 of 30 with 159.98 s\n",
            "Epoch 8\n",
            "-------------------------------\n"
          ]
        },
        {
          "output_type": "stream",
          "name": "stderr",
          "text": [
            "100%|██████████| 782/782 [02:21<00:00,  5.53it/s]\n"
          ]
        },
        {
          "output_type": "stream",
          "name": "stdout",
          "text": [
            "loss: 0.263\n",
            "Test Error: \n",
            " Accuracy: 88.7%, Top-5 Accuracy: 99.6%, \n",
            " Loss: 0.342914 \n",
            "\n",
            "current lr [0.001]\n",
            "Epoch 8 of 30 with 159.92 s\n",
            "Epoch 9\n",
            "-------------------------------\n"
          ]
        },
        {
          "output_type": "stream",
          "name": "stderr",
          "text": [
            "100%|██████████| 782/782 [02:22<00:00,  5.50it/s]\n"
          ]
        },
        {
          "output_type": "stream",
          "name": "stdout",
          "text": [
            "loss: 0.232\n",
            "Test Error: \n",
            " Accuracy: 89.4%, Top-5 Accuracy: 99.6%, \n",
            " Loss: 0.327814 \n",
            "\n",
            "current lr [0.001]\n",
            "Epoch 9 of 30 with 160.89 s\n",
            "Epoch 10\n",
            "-------------------------------\n"
          ]
        },
        {
          "output_type": "stream",
          "name": "stderr",
          "text": [
            "100%|██████████| 782/782 [02:22<00:00,  5.51it/s]\n"
          ]
        },
        {
          "output_type": "stream",
          "name": "stdout",
          "text": [
            "loss: 0.211\n",
            "Test Error: \n",
            " Accuracy: 89.5%, Top-5 Accuracy: 99.7%, \n",
            " Loss: 0.325204 \n",
            "\n",
            "current lr [0.0001]\n",
            "Epoch 10 of 30 with 162.09 s\n",
            "Epoch 11\n",
            "-------------------------------\n"
          ]
        },
        {
          "output_type": "stream",
          "name": "stderr",
          "text": [
            "100%|██████████| 782/782 [02:22<00:00,  5.50it/s]\n"
          ]
        },
        {
          "output_type": "stream",
          "name": "stdout",
          "text": [
            "loss: 0.159\n",
            "Test Error: \n",
            " Accuracy: 90.6%, Top-5 Accuracy: 99.7%, \n",
            " Loss: 0.295774 \n",
            "\n",
            "current lr [0.0001]\n",
            "Epoch 11 of 30 with 161.39 s\n",
            "Epoch 12\n",
            "-------------------------------\n"
          ]
        },
        {
          "output_type": "stream",
          "name": "stderr",
          "text": [
            "100%|██████████| 782/782 [02:22<00:00,  5.49it/s]\n"
          ]
        },
        {
          "output_type": "stream",
          "name": "stdout",
          "text": [
            "loss: 0.144\n",
            "Test Error: \n",
            " Accuracy: 90.8%, Top-5 Accuracy: 99.7%, \n",
            " Loss: 0.290795 \n",
            "\n",
            "current lr [0.0001]\n",
            "Epoch 12 of 30 with 161.48 s\n",
            "Epoch 13\n",
            "-------------------------------\n"
          ]
        },
        {
          "output_type": "stream",
          "name": "stderr",
          "text": [
            "100%|██████████| 782/782 [02:22<00:00,  5.50it/s]\n"
          ]
        },
        {
          "output_type": "stream",
          "name": "stdout",
          "text": [
            "loss: 0.136\n",
            "Test Error: \n",
            " Accuracy: 90.8%, Top-5 Accuracy: 99.7%, \n",
            " Loss: 0.287633 \n",
            "\n",
            "current lr [0.0001]\n",
            "Epoch 13 of 30 with 161.05 s\n",
            "Epoch 14\n",
            "-------------------------------\n"
          ]
        },
        {
          "output_type": "stream",
          "name": "stderr",
          "text": [
            "100%|██████████| 782/782 [02:22<00:00,  5.50it/s]\n"
          ]
        },
        {
          "output_type": "stream",
          "name": "stdout",
          "text": [
            "loss: 0.129\n",
            "Test Error: \n",
            " Accuracy: 90.8%, Top-5 Accuracy: 99.8%, \n",
            " Loss: 0.287995 \n",
            "\n",
            "current lr [0.0001]\n",
            "Epoch 14 of 30 with 161.33 s\n",
            "Epoch 15\n",
            "-------------------------------\n"
          ]
        },
        {
          "output_type": "stream",
          "name": "stderr",
          "text": [
            "100%|██████████| 782/782 [02:22<00:00,  5.50it/s]\n"
          ]
        },
        {
          "output_type": "stream",
          "name": "stdout",
          "text": [
            "loss: 0.124\n",
            "Test Error: \n",
            " Accuracy: 91.0%, Top-5 Accuracy: 99.8%, \n",
            " Loss: 0.286291 \n",
            "\n",
            "current lr [1e-05]\n",
            "Epoch 15 of 30 with 161.53 s\n",
            "Epoch 16\n",
            "-------------------------------\n"
          ]
        },
        {
          "output_type": "stream",
          "name": "stderr",
          "text": [
            "100%|██████████| 782/782 [02:21<00:00,  5.52it/s]\n"
          ]
        },
        {
          "output_type": "stream",
          "name": "stdout",
          "text": [
            "loss: 0.118\n",
            "Test Error: \n",
            " Accuracy: 90.9%, Top-5 Accuracy: 99.8%, \n",
            " Loss: 0.286790 \n",
            "\n",
            "current lr [1e-05]\n",
            "Epoch 16 of 30 with 160.85 s\n",
            "Epoch 17\n",
            "-------------------------------\n"
          ]
        },
        {
          "output_type": "stream",
          "name": "stderr",
          "text": [
            "100%|██████████| 782/782 [02:22<00:00,  5.50it/s]\n"
          ]
        },
        {
          "output_type": "stream",
          "name": "stdout",
          "text": [
            "loss: 0.116\n",
            "Test Error: \n",
            " Accuracy: 90.7%, Top-5 Accuracy: 99.8%, \n",
            " Loss: 0.284856 \n",
            "\n",
            "current lr [1e-05]\n",
            "Epoch 17 of 30 with 161.03 s\n",
            "Epoch 18\n",
            "-------------------------------\n"
          ]
        },
        {
          "output_type": "stream",
          "name": "stderr",
          "text": [
            "100%|██████████| 782/782 [02:21<00:00,  5.54it/s]\n"
          ]
        },
        {
          "output_type": "stream",
          "name": "stdout",
          "text": [
            "loss: 0.116\n",
            "Test Error: \n",
            " Accuracy: 91.0%, Top-5 Accuracy: 99.8%, \n",
            " Loss: 0.284701 \n",
            "\n",
            "current lr [1e-05]\n",
            "Epoch 18 of 30 with 160.22 s\n",
            "Epoch 19\n",
            "-------------------------------\n"
          ]
        },
        {
          "output_type": "stream",
          "name": "stderr",
          "text": [
            "100%|██████████| 782/782 [02:22<00:00,  5.51it/s]\n"
          ]
        },
        {
          "output_type": "stream",
          "name": "stdout",
          "text": [
            "loss: 0.115\n",
            "Test Error: \n",
            " Accuracy: 90.9%, Top-5 Accuracy: 99.7%, \n",
            " Loss: 0.285049 \n",
            "\n",
            "current lr [1e-05]\n",
            "Epoch 19 of 30 with 161.15 s\n",
            "Epoch 20\n",
            "-------------------------------\n"
          ]
        },
        {
          "output_type": "stream",
          "name": "stderr",
          "text": [
            "100%|██████████| 782/782 [02:21<00:00,  5.51it/s]\n"
          ]
        },
        {
          "output_type": "stream",
          "name": "stdout",
          "text": [
            "loss: 0.116\n",
            "Test Error: \n",
            " Accuracy: 91.0%, Top-5 Accuracy: 99.8%, \n",
            " Loss: 0.286101 \n",
            "\n",
            "current lr [1.0000000000000002e-06]\n",
            "Epoch 20 of 30 with 161.07 s\n",
            "Epoch 21\n",
            "-------------------------------\n"
          ]
        },
        {
          "output_type": "stream",
          "name": "stderr",
          "text": [
            "100%|██████████| 782/782 [02:22<00:00,  5.50it/s]\n"
          ]
        },
        {
          "output_type": "stream",
          "name": "stdout",
          "text": [
            "loss: 0.114\n",
            "Test Error: \n",
            " Accuracy: 90.9%, Top-5 Accuracy: 99.7%, \n",
            " Loss: 0.285202 \n",
            "\n",
            "current lr [1.0000000000000002e-06]\n",
            "Epoch 21 of 30 with 161.24 s\n",
            "Epoch 22\n",
            "-------------------------------\n"
          ]
        },
        {
          "output_type": "stream",
          "name": "stderr",
          "text": [
            "100%|██████████| 782/782 [02:21<00:00,  5.54it/s]\n"
          ]
        },
        {
          "output_type": "stream",
          "name": "stdout",
          "text": [
            "loss: 0.116\n",
            "Test Error: \n",
            " Accuracy: 91.0%, Top-5 Accuracy: 99.8%, \n",
            " Loss: 0.285486 \n",
            "\n",
            "current lr [1.0000000000000002e-06]\n",
            "Epoch 22 of 30 with 160.30 s\n",
            "Epoch 23\n",
            "-------------------------------\n"
          ]
        },
        {
          "output_type": "stream",
          "name": "stderr",
          "text": [
            "100%|██████████| 782/782 [02:21<00:00,  5.53it/s]\n"
          ]
        },
        {
          "output_type": "stream",
          "name": "stdout",
          "text": [
            "loss: 0.112\n",
            "Test Error: \n",
            " Accuracy: 91.0%, Top-5 Accuracy: 99.8%, \n",
            " Loss: 0.285398 \n",
            "\n",
            "current lr [1.0000000000000002e-06]\n",
            "Epoch 23 of 30 with 160.10 s\n",
            "Epoch 24\n",
            "-------------------------------\n"
          ]
        },
        {
          "output_type": "stream",
          "name": "stderr",
          "text": [
            "100%|██████████| 782/782 [02:21<00:00,  5.53it/s]\n"
          ]
        },
        {
          "output_type": "stream",
          "name": "stdout",
          "text": [
            "loss: 0.115\n",
            "Test Error: \n",
            " Accuracy: 91.0%, Top-5 Accuracy: 99.8%, \n",
            " Loss: 0.283729 \n",
            "\n",
            "current lr [1.0000000000000002e-06]\n",
            "Epoch 24 of 30 with 160.09 s\n",
            "Epoch 25\n",
            "-------------------------------\n"
          ]
        },
        {
          "output_type": "stream",
          "name": "stderr",
          "text": [
            "100%|██████████| 782/782 [02:21<00:00,  5.52it/s]\n"
          ]
        },
        {
          "output_type": "stream",
          "name": "stdout",
          "text": [
            "loss: 0.113\n",
            "Test Error: \n",
            " Accuracy: 90.8%, Top-5 Accuracy: 99.8%, \n",
            " Loss: 0.285957 \n",
            "\n",
            "current lr [1.0000000000000002e-07]\n",
            "Epoch 25 of 30 with 160.13 s\n",
            "Epoch 26\n",
            "-------------------------------\n"
          ]
        },
        {
          "output_type": "stream",
          "name": "stderr",
          "text": [
            "100%|██████████| 782/782 [02:21<00:00,  5.51it/s]\n"
          ]
        },
        {
          "output_type": "stream",
          "name": "stdout",
          "text": [
            "loss: 0.112\n",
            "Test Error: \n",
            " Accuracy: 90.9%, Top-5 Accuracy: 99.8%, \n",
            " Loss: 0.284961 \n",
            "\n",
            "current lr [1.0000000000000002e-07]\n",
            "Epoch 26 of 30 with 160.42 s\n",
            "Epoch 27\n",
            "-------------------------------\n"
          ]
        },
        {
          "output_type": "stream",
          "name": "stderr",
          "text": [
            "100%|██████████| 782/782 [02:21<00:00,  5.54it/s]\n"
          ]
        },
        {
          "output_type": "stream",
          "name": "stdout",
          "text": [
            "loss: 0.113\n",
            "Test Error: \n",
            " Accuracy: 90.9%, Top-5 Accuracy: 99.8%, \n",
            " Loss: 0.286027 \n",
            "\n",
            "current lr [1.0000000000000002e-07]\n",
            "Epoch 27 of 30 with 159.74 s\n",
            "Epoch 28\n",
            "-------------------------------\n"
          ]
        },
        {
          "output_type": "stream",
          "name": "stderr",
          "text": [
            "100%|██████████| 782/782 [02:21<00:00,  5.54it/s]\n"
          ]
        },
        {
          "output_type": "stream",
          "name": "stdout",
          "text": [
            "loss: 0.113\n",
            "Test Error: \n",
            " Accuracy: 90.9%, Top-5 Accuracy: 99.8%, \n",
            " Loss: 0.283905 \n",
            "\n",
            "current lr [1.0000000000000002e-07]\n",
            "Epoch 28 of 30 with 160.13 s\n",
            "Epoch 29\n",
            "-------------------------------\n"
          ]
        },
        {
          "output_type": "stream",
          "name": "stderr",
          "text": [
            "100%|██████████| 782/782 [02:21<00:00,  5.52it/s]\n"
          ]
        },
        {
          "output_type": "stream",
          "name": "stdout",
          "text": [
            "loss: 0.113\n",
            "Test Error: \n",
            " Accuracy: 90.8%, Top-5 Accuracy: 99.8%, \n",
            " Loss: 0.284020 \n",
            "\n",
            "current lr [1.0000000000000002e-07]\n",
            "Epoch 29 of 30 with 160.57 s\n",
            "Epoch 30\n",
            "-------------------------------\n"
          ]
        },
        {
          "output_type": "stream",
          "name": "stderr",
          "text": [
            "100%|██████████| 782/782 [02:21<00:00,  5.52it/s]\n"
          ]
        },
        {
          "output_type": "stream",
          "name": "stdout",
          "text": [
            "loss: 0.114\n",
            "Test Error: \n",
            " Accuracy: 90.9%, Top-5 Accuracy: 99.8%, \n",
            " Loss: 0.284897 \n",
            "\n",
            "current lr [1.0000000000000004e-08]\n",
            "Epoch 30 of 30 with 160.83 s\n",
            "Done!\n",
            "Total time 4828.42\n"
          ]
        }
      ],
      "source": [
        "print(\"Starting Training Loop...\")\n",
        "start_time = time.time()\n",
        "\n",
        "for t in range(epochs):\n",
        "    epoch_start_time = time.time()\n",
        "    print(f\"Epoch {t+1}\\n-------------------------------\")\n",
        "    \n",
        "    epoch_loss = train_loop(train_dataloader, model, loss_fn, optimizer)\n",
        "    test_loss, top1_accuracy, top5_accuracy = test_loop(test_dataloader, model, loss_fn)\n",
        "    \n",
        "    total_loss[0].append(t+1)\n",
        "    total_loss[1].append(epoch_loss)\n",
        "    total_loss[2].append(test_loss)\n",
        "    \n",
        "    wandb.log({ \"training_loss\": epoch_loss, \"test_loss\": test_loss, \"acc\": top1_accuracy, \"top5_accuracy\": top5_accuracy })\n",
        "\n",
        "    print(\"current lr\", scheduler.get_last_lr())\n",
        "    epoch_end_time = time.time()\n",
        "    per_epoch_ptime = epoch_end_time - epoch_start_time\n",
        "    print(\"Epoch %d of %d with %.2f s\" % (t + 1, epochs, per_epoch_ptime))\n",
        "\n",
        "\n",
        "print(\"Done!\")\n",
        "end_time = time.time()\n",
        "total_ptime = end_time - start_time\n",
        "print(\"Total time %.2f\" % (total_ptime))"
      ]
    },
    {
      "cell_type": "code",
      "execution_count": null,
      "id": "f37fca73-7981-4eb5-aa94-e5a4aa8ec46e",
      "metadata": {
        "id": "f37fca73-7981-4eb5-aa94-e5a4aa8ec46e",
        "colab": {
          "base_uri": "https://localhost:8080/"
        },
        "outputId": "74c2c921-0ae2-4c9d-b411-beaaa4e0156c"
      },
      "outputs": [
        {
          "output_type": "stream",
          "name": "stdout",
          "text": [
            "Test Error: \n",
            " Accuracy: 90.9%, Top-5 Accuracy: 99.7%, \n",
            " Loss: 0.286133 \n",
            "\n"
          ]
        },
        {
          "output_type": "execute_result",
          "data": {
            "text/plain": [
              "(0.286133484191196, 90.86, 99.72999999999999)"
            ]
          },
          "metadata": {},
          "execution_count": 10
        }
      ],
      "source": [
        "test_loop(test_dataloader, model, loss_fn)"
      ]
    },
    {
      "cell_type": "code",
      "execution_count": null,
      "id": "4c7ea278-a2c3-4c69-99de-09616bdde57d",
      "metadata": {
        "id": "4c7ea278-a2c3-4c69-99de-09616bdde57d",
        "colab": {
          "base_uri": "https://localhost:8080/",
          "height": 449
        },
        "outputId": "8fedabeb-e099-49d2-e7e8-49558f1b0069"
      },
      "outputs": [
        {
          "output_type": "display_data",
          "data": {
            "text/plain": [
              "<Figure size 640x480 with 1 Axes>"
            ],
            "image/png": "[encoded data removed]"
          },
          "metadata": {}
        }
      ],
      "source": [
        "plt.plot(total_loss[0], total_loss[1], label = \"Training loss\")\n",
        "plt.plot(total_loss[0], total_loss[2], label = \"Test loss\")\n",
        "\n",
        "# Add labels and title to the plot\n",
        "plt.xlabel('Epoch')\n",
        "plt.ylabel('Loss')\n",
        "# plt.title('Training Loss')\n",
        "\n",
        "# Add legend\n",
        "plt.legend()\n",
        "\n",
        "# Show the plot\n",
        "plt.show()"
      ]
    },
    {
      "cell_type": "code",
      "execution_count": null,
      "id": "e24f1db9-c744-4436-8f97-73c0ef7858bb",
      "metadata": {
        "id": "e24f1db9-c744-4436-8f97-73c0ef7858bb"
      },
      "outputs": [],
      "source": [
        "# Close wandb run\n",
        "run.finish()"
      ]
    },
    {
      "cell_type": "code",
      "execution_count": null,
      "id": "b88876dd-1f87-452d-99ef-1c366396b1be",
      "metadata": {
        "id": "b88876dd-1f87-452d-99ef-1c366396b1be"
      },
      "outputs": [],
      "source": []
    },
    {
      "cell_type": "code",
      "source": [],
      "metadata": {
        "id": "ASR2uQZZETpm"
      },
      "id": "ASR2uQZZETpm",
      "execution_count": null,
      "outputs": []
    },
    {
      "cell_type": "code",
      "execution_count": null,
      "id": "55496a4e-939a-49bd-aa07-33d1360c7aa0",
      "metadata": {
        "colab": {
          "base_uri": "https://localhost:8080/"
        },
        "id": "55496a4e-939a-49bd-aa07-33d1360c7aa0",
        "outputId": "4b207edf-905e-4b9c-db43-40b4133fa5bf"
      },
      "outputs": [
        {
          "output_type": "stream",
          "name": "stdout",
          "text": [
            "Starting with batch 0\n"
          ]
        },
        {
          "output_type": "stream",
          "name": "stderr",
          "text": [
            "/usr/local/lib/python3.10/dist-packages/torchvision/transforms/functional.py:1603: UserWarning: The default value of the antialias parameter of all the resizing transforms (Resize(), RandomResizedCrop(), etc.) will change from None to True in v0.17, in order to be consistent across the PIL and Tensor backends. To suppress this warning, directly pass antialias=True (recommended, future default), antialias=None (current default, which means False for Tensors and True for PIL), or antialias=False (only works on Tensors - PIL will still use antialiasing). This also applies if you are using the inference transforms from the models weights: update the call to weights.transforms(antialias=True).\n",
            "  warnings.warn(\n"
          ]
        }
      ],
      "source": [
        "labels_map = {\n",
        "    0: \"Airplane\",\n",
        "    1: \"Automobile\",\n",
        "    2: \"Bird\",\n",
        "    3: \"Cat\",\n",
        "    4: \"Deer\",\n",
        "    5: \"Dog\",\n",
        "    6: \"Frog\",\n",
        "    7: \"Horse\",\n",
        "    8: \"Ship\",\n",
        "    9: \"Truck\",\n",
        "}\n",
        "\n",
        "\n",
        "size = len(test_dataloader.dataset)\n",
        "num_batches = len(test_dataloader)\n",
        "test_loss, correct, correct_5 = 0, 0, 0\n",
        "\n",
        "correct_idx = []\n",
        "wrong_idx = []\n",
        "with torch.no_grad():\n",
        "    for batch, (images, labels) in enumerate(test_dataloader):\n",
        "            print(\"Starting with batch\", batch)\n",
        "            images = images.to(device)\n",
        "            labels = labels.to(device)\n",
        "            pred = model(images)\n",
        "            \n",
        "            correct += (pred.argmax(1) == labels).type(torch.float).sum().item()\n",
        "            \n",
        "            # Calculate top-5 accuracy\n",
        "            _, pred_5 = pred.topk(5)\n",
        "\n",
        "            for i in range(len(labels)):\n",
        "              if labels[i] == pred_5[i][0]:\n",
        "                if len(correct_idx) < 5:\n",
        "                  correct_idx.append([(batch*64) + i, labels[i].item()])\n",
        "              elif labels[i] != pred_5[i][0]:\n",
        "                if len(wrong_idx) < 5:\n",
        "                  wrong_idx.append([(batch*64) + i, labels[i].item(), pred_5[i]])\n",
        "\n",
        "            break\n"
      ]
    },
    {
      "cell_type": "code",
      "source": [
        "wrong_idx"
      ],
      "metadata": {
        "colab": {
          "base_uri": "https://localhost:8080/"
        },
        "id": "PlztzaAHIBYI",
        "outputId": "59712837-06d3-4add-8007-04a236579a26"
      },
      "id": "PlztzaAHIBYI",
      "execution_count": null,
      "outputs": [
        {
          "output_type": "execute_result",
          "data": {
            "text/plain": [
              "[[47, 9, tensor([8, 9, 0, 1, 3], device='cuda:0')],\n",
              " [49, 6, tensor([4, 6, 0, 2, 3], device='cuda:0')],\n",
              " [58, 4, tensor([5, 3, 4, 7, 2], device='cuda:0')],\n",
              " [59, 6, tensor([2, 6, 3, 4, 5], device='cuda:0')],\n",
              " [61, 3, tensor([5, 3, 7, 4, 2], device='cuda:0')]]"
            ]
          },
          "metadata": {},
          "execution_count": 61
        }
      ]
    },
    {
      "cell_type": "code",
      "source": [
        "correct_idx"
      ],
      "metadata": {
        "colab": {
          "base_uri": "https://localhost:8080/"
        },
        "id": "QxMHtxz_IXCO",
        "outputId": "fedf8638-1e14-421f-f808-35f0794150b5"
      },
      "id": "QxMHtxz_IXCO",
      "execution_count": null,
      "outputs": [
        {
          "output_type": "execute_result",
          "data": {
            "text/plain": [
              "[[0, 3], [2, 8], [3, 0], [4, 6]]"
            ]
          },
          "metadata": {},
          "execution_count": 57
        }
      ]
    },
    {
      "cell_type": "code",
      "source": [
        "testd = datasets.CIFAR10(root='.', train=False, download=True, transform=transforms.ToTensor())"
      ],
      "metadata": {
        "id": "1UF3Lb1JJgiq"
      },
      "id": "1UF3Lb1JJgiq",
      "execution_count": null,
      "outputs": []
    },
    {
      "cell_type": "code",
      "source": [
        "figure = plt.figure(figsize=(10, 10))\n",
        "figure.suptitle('test title', fontsize=7)\n",
        "cols, rows = 2, 2\n",
        "\n",
        "for i in range(1, cols * rows+1):\n",
        "    sample_idx = correct_idx[i-1]\n",
        "    print(\"sample_idx\", sample_idx)\n",
        "    img, label = testd[correct_idx[i-1][0]]\n",
        "    img = img.permute(1,2,0).view(32,32,3)\n",
        "    figure.add_subplot(rows, cols, i)\n",
        "    ac = correct_idx[i-1][1]\n",
        "    # pd = correct_idx[i-1][2].cpu().numpy()\n",
        "    # pd_str = \"\"\n",
        "    # for i in range(3):\n",
        "    #    pd_str += labels_map[pd[i]]\n",
        "    #    pd_str += \" \"\n",
        "    plt.title(\"Prediction: {}\".format(labels_map[ac]))\n",
        "    plt.axis(\"off\")\n",
        "    plt.imshow(img, cmap=\"gray\")\n",
        "    # plt.imshow(img.squeeze(), cmap=\"gray\")\n",
        "plt.show()"
      ],
      "metadata": {
        "colab": {
          "base_uri": "https://localhost:8080/",
          "height": 976
        },
        "id": "qZSpFMZHGHSe",
        "outputId": "a09542f6-d119-4f95-a429-1c7aacb9bdcc"
      },
      "id": "qZSpFMZHGHSe",
      "execution_count": null,
      "outputs": [
        {
          "output_type": "stream",
          "name": "stdout",
          "text": [
            "sample_idx [0, 3]\n",
            "sample_idx [2, 8]\n",
            "sample_idx [3, 0]\n",
            "sample_idx [4, 6]\n"
          ]
        },
        {
          "output_type": "display_data",
          "data": {
            "text/plain": [
              "<Figure size 1000x1000 with 4 Axes>"
            ],
            "image/png": "[encoded data removed]"
          },
          "metadata": {}
        }
      ]
    },
    {
      "cell_type": "code",
      "source": [],
      "metadata": {
        "id": "TD8CaQgCGLBD"
      },
      "id": "TD8CaQgCGLBD",
      "execution_count": null,
      "outputs": []
    },
    {
      "cell_type": "code",
      "source": [],
      "metadata": {
        "id": "Whf4adDsGMd0"
      },
      "id": "Whf4adDsGMd0",
      "execution_count": null,
      "outputs": []
    },
    {
      "cell_type": "code",
      "source": [],
      "metadata": {
        "colab": {
          "base_uri": "https://localhost:8080/"
        },
        "id": "7BaLh7GaJE6z",
        "outputId": "fe2564f8-19db-4a26-9496-40c183ec7bfb"
      },
      "id": "7BaLh7GaJE6z",
      "execution_count": null,
      "outputs": [
        {
          "output_type": "execute_result",
          "data": {
            "text/plain": [
              "[[0, 3], [2, 8], [3, 0], [4, 6]]"
            ]
          },
          "metadata": {},
          "execution_count": 53
        }
      ]
    },
    {
      "cell_type": "code",
      "source": [
        "\n",
        "}"
      ],
      "metadata": {
        "id": "0B7ouTifJRVn"
      },
      "id": "0B7ouTifJRVn",
      "execution_count": null,
      "outputs": []
    },
    {
      "cell_type": "code",
      "source": [],
      "metadata": {
        "colab": {
          "base_uri": "https://localhost:8080/"
        },
        "id": "g8PAoRFrKgij",
        "outputId": "10d816ae-3dbe-41bb-df95-0675797b827c"
      },
      "id": "g8PAoRFrKgij",
      "execution_count": null,
      "outputs": [
        {
          "output_type": "execute_result",
          "data": {
            "text/plain": [
              "array([5, 3, 4, 7, 2])"
            ]
          },
          "metadata": {},
          "execution_count": 70
        }
      ]
    },
    {
      "cell_type": "code",
      "source": [],
      "metadata": {
        "id": "Qqed6b5GLq9O"
      },
      "id": "Qqed6b5GLq9O",
      "execution_count": null,
      "outputs": []
    }
  ],
  "metadata": {
    "accelerator": "GPU",
    "colab": {
      "gpuType": "V100",
      "provenance": [],
      "machine_shape": "hm"
    },
    "gpuClass": "standard",
    "kernelspec": {
      "display_name": "Python 3 (ipykernel)",
      "language": "python",
      "name": "python3"
    },
    "language_info": {
      "codemirror_mode": {
        "name": "ipython",
        "version": 3
      },
      "file_extension": ".py",
      "mimetype": "text/x-python",
      "name": "python",
      "nbconvert_exporter": "python",
      "pygments_lexer": "ipython3",
      "version": "3.10.5"
    }
  },
  "nbformat": 4,
  "nbformat_minor": 5
}