{
  "cells": [
    {
      "cell_type": "code",
      "execution_count": null,
      "id": "0dd1d895-fbcd-4acf-bba7-151039cf9a78",
      "metadata": {
        "tags": [],
        "id": "0dd1d895-fbcd-4acf-bba7-151039cf9a78",
        "colab": {
          "base_uri": "https://localhost:8080/"
        },
        "outputId": "340e0a3d-3b3d-4ddd-9613-0562857edf84"
      },
      "outputs": [
        {
          "output_type": "stream",
          "name": "stdout",
          "text": [
            "Looking in indexes: https://pypi.org/simple, https://us-python.pkg.dev/colab-wheels/public/simple/\n",
            "Collecting wandb\n",
            "  Downloading wandb-0.15.2-py3-none-any.whl (2.0 MB)\n",
            "\u001b[2K     \u001b[90m━━━━━━━━━━━━━━━━━━━━━━━━━━━━━━━━━━━━━━━━\u001b[0m \u001b[32m2.0/2.0 MB\u001b[0m \u001b[31m20.9 MB/s\u001b[0m eta \u001b[36m0:00:00\u001b[0m\n",
            "\u001b[?25hRequirement already satisfied: Click!=8.0.0,>=7.0 in /usr/local/lib/python3.10/dist-packages (from wandb) (8.1.3)\n",
            "Collecting GitPython!=3.1.29,>=1.0.0 (from wandb)\n",
            "  Downloading GitPython-3.1.31-py3-none-any.whl (184 kB)\n",
            "\u001b[2K     \u001b[90m━━━━━━━━━━━━━━━━━━━━━━━━━━━━━━━━━━━━━━\u001b[0m \u001b[32m184.3/184.3 kB\u001b[0m \u001b[31m14.6 MB/s\u001b[0m eta \u001b[36m0:00:00\u001b[0m\n",
            "\u001b[?25hRequirement already satisfied: requests<3,>=2.0.0 in /usr/local/lib/python3.10/dist-packages (from wandb) (2.27.1)\n",
            "Requirement already satisfied: psutil>=5.0.0 in /usr/local/lib/python3.10/dist-packages (from wandb) (5.9.5)\n",
            "Collecting sentry-sdk>=1.0.0 (from wandb)\n",
            "  Downloading sentry_sdk-1.22.2-py2.py3-none-any.whl (203 kB)\n",
            "\u001b[2K     \u001b[90m━━━━━━━━━━━━━━━━━━━━━━━━━━━━━━━━━━━━━━\u001b[0m \u001b[32m203.3/203.3 kB\u001b[0m \u001b[31m13.5 MB/s\u001b[0m eta \u001b[36m0:00:00\u001b[0m\n",
            "\u001b[?25hCollecting docker-pycreds>=0.4.0 (from wandb)\n",
            "  Downloading docker_pycreds-0.4.0-py2.py3-none-any.whl (9.0 kB)\n",
            "Requirement already satisfied: PyYAML in /usr/local/lib/python3.10/dist-packages (from wandb) (6.0)\n",
            "Collecting pathtools (from wandb)\n",
            "  Downloading pathtools-0.1.2.tar.gz (11 kB)\n",
            "  Preparing metadata (setup.py) ... \u001b[?25l\u001b[?25hdone\n",
            "Collecting setproctitle (from wandb)\n",
            "  Downloading setproctitle-1.3.2-cp310-cp310-manylinux_2_5_x86_64.manylinux1_x86_64.manylinux_2_17_x86_64.manylinux2014_x86_64.whl (30 kB)\n",
            "Requirement already satisfied: setuptools in /usr/local/lib/python3.10/dist-packages (from wandb) (67.7.2)\n",
            "Requirement already satisfied: appdirs>=1.4.3 in /usr/local/lib/python3.10/dist-packages (from wandb) (1.4.4)\n",
            "Requirement already satisfied: protobuf!=4.21.0,<5,>=3.19.0 in /usr/local/lib/python3.10/dist-packages (from wandb) (3.20.3)\n",
            "Requirement already satisfied: six>=1.4.0 in /usr/local/lib/python3.10/dist-packages (from docker-pycreds>=0.4.0->wandb) (1.16.0)\n",
            "Collecting gitdb<5,>=4.0.1 (from GitPython!=3.1.29,>=1.0.0->wandb)\n",
            "  Downloading gitdb-4.0.10-py3-none-any.whl (62 kB)\n",
            "\u001b[2K     \u001b[90m━━━━━━━━━━━━━━━━━━━━━━━━━━━━━━━━━━━━━━━━\u001b[0m \u001b[32m62.7/62.7 kB\u001b[0m \u001b[31m8.9 MB/s\u001b[0m eta \u001b[36m0:00:00\u001b[0m\n",
            "\u001b[?25hRequirement already satisfied: urllib3<1.27,>=1.21.1 in /usr/local/lib/python3.10/dist-packages (from requests<3,>=2.0.0->wandb) (1.26.15)\n",
            "Requirement already satisfied: certifi>=2017.4.17 in /usr/local/lib/python3.10/dist-packages (from requests<3,>=2.0.0->wandb) (2022.12.7)\n",
            "Requirement already satisfied: charset-normalizer~=2.0.0 in /usr/local/lib/python3.10/dist-packages (from requests<3,>=2.0.0->wandb) (2.0.12)\n",
            "Requirement already satisfied: idna<4,>=2.5 in /usr/local/lib/python3.10/dist-packages (from requests<3,>=2.0.0->wandb) (3.4)\n",
            "Collecting smmap<6,>=3.0.1 (from gitdb<5,>=4.0.1->GitPython!=3.1.29,>=1.0.0->wandb)\n",
            "  Downloading smmap-5.0.0-py3-none-any.whl (24 kB)\n",
            "Building wheels for collected packages: pathtools\n",
            "  Building wheel for pathtools (setup.py) ... \u001b[?25l\u001b[?25hdone\n",
            "  Created wheel for pathtools: filename=pathtools-0.1.2-py3-none-any.whl size=8791 sha256=e02469d51262e0ce6c8ac494f25b244927393dc14b7e6df0e431f8870812ea7c\n",
            "  Stored in directory: /root/.cache/pip/wheels/e7/f3/22/152153d6eb222ee7a56ff8617d80ee5207207a8c00a7aab794\n",
            "Successfully built pathtools\n",
            "Installing collected packages: pathtools, smmap, setproctitle, sentry-sdk, docker-pycreds, gitdb, GitPython, wandb\n",
            "Successfully installed GitPython-3.1.31 docker-pycreds-0.4.0 gitdb-4.0.10 pathtools-0.1.2 sentry-sdk-1.22.2 setproctitle-1.3.2 smmap-5.0.0 wandb-0.15.2\n"
          ]
        }
      ],
      "source": [
        "# Install wandb for saving training logs\n",
        "!pip install wandb"
      ]
    },
    {
      "cell_type": "code",
      "execution_count": null,
      "id": "c7133815-49a3-477c-b89b-eb15b17132d8",
      "metadata": {
        "tags": [],
        "id": "c7133815-49a3-477c-b89b-eb15b17132d8",
        "colab": {
          "base_uri": "https://localhost:8080/",
          "height": 121
        },
        "outputId": "785025f3-44de-430e-f608-91ca5e39c6f2"
      },
      "outputs": [
        {
          "output_type": "display_data",
          "data": {
            "text/plain": [
              "<IPython.core.display.Javascript object>"
            ],
            "application/javascript": [
              "\n",
              "        window._wandbApiKey = new Promise((resolve, reject) => {\n",
              "            function loadScript(url) {\n",
              "            return new Promise(function(resolve, reject) {\n",
              "                let newScript = document.createElement(\"script\");\n",
              "                newScript.onerror = reject;\n",
              "                newScript.onload = resolve;\n",
              "                document.body.appendChild(newScript);\n",
              "                newScript.src = url;\n",
              "            });\n",
              "            }\n",
              "            loadScript(\"https://cdn.jsdelivr.net/npm/postmate/build/postmate.min.js\").then(() => {\n",
              "            const iframe = document.createElement('iframe')\n",
              "            iframe.style.cssText = \"width:0;height:0;border:none\"\n",
              "            document.body.appendChild(iframe)\n",
              "            const handshake = new Postmate({\n",
              "                container: iframe,\n",
              "                url: 'https://wandb.ai/authorize'\n",
              "            });\n",
              "            const timeout = setTimeout(() => reject(\"Couldn't auto authenticate\"), 5000)\n",
              "            handshake.then(function(child) {\n",
              "                child.on('authorize', data => {\n",
              "                    clearTimeout(timeout)\n",
              "                    resolve(data)\n",
              "                });\n",
              "            });\n",
              "            })\n",
              "        });\n",
              "    "
            ]
          },
          "metadata": {}
        },
        {
          "output_type": "stream",
          "name": "stderr",
          "text": [
            "\u001b[34m\u001b[1mwandb\u001b[0m: Logging into wandb.ai. (Learn how to deploy a W&B server locally: https://wandb.me/wandb-server)\n",
            "\u001b[34m\u001b[1mwandb\u001b[0m: You can find your API key in your browser here: https://wandb.ai/authorize\n",
            "wandb: Paste an API key from your profile and hit enter, or press ctrl+c to quit:"
          ]
        },
        {
          "name": "stdout",
          "output_type": "stream",
          "text": [
            " ··········\n"
          ]
        },
        {
          "output_type": "stream",
          "name": "stderr",
          "text": [
            "\u001b[34m\u001b[1mwandb\u001b[0m: Appending key for api.wandb.ai to your netrc file: /root/.netrc\n"
          ]
        },
        {
          "output_type": "execute_result",
          "data": {
            "text/plain": [
              "True"
            ]
          },
          "metadata": {},
          "execution_count": 2
        }
      ],
      "source": [
        "import wandb\n",
        "wandb.login()"
      ]
    },
    {
      "cell_type": "code",
      "execution_count": null,
      "id": "0f2b20a8-3444-4b6c-866a-3c90953ba3b9",
      "metadata": {
        "id": "0f2b20a8-3444-4b6c-866a-3c90953ba3b9"
      },
      "outputs": [],
      "source": [
        "import os\n",
        "import time\n",
        "import math\n",
        "from tqdm import tqdm\n",
        "\n",
        "import numpy as np\n",
        "import matplotlib.pyplot as plt\n",
        "\n",
        "import torch\n",
        "import torch.nn.init as init\n",
        "import torch.nn as nn\n",
        "import torch.nn.functional as F\n",
        "import torch.optim as optim\n",
        "import torch.optim.lr_scheduler as lr_scheduler\n",
        "from torch.utils.data import DataLoader\n",
        "\n",
        "import torchvision\n",
        "import torchvision.datasets as datasets\n",
        "import torchvision.transforms as transforms"
      ]
    },
    {
      "cell_type": "markdown",
      "id": "783273e0-aaa8-4d19-a2e2-fdcb09a75bf8",
      "metadata": {
        "id": "783273e0-aaa8-4d19-a2e2-fdcb09a75bf8"
      },
      "source": [
        "### VGG model"
      ]
    },
    {
      "cell_type": "markdown",
      "source": [
        "##### with batch normalization"
      ],
      "metadata": {
        "id": "XOnluYeQ9XPf"
      },
      "id": "XOnluYeQ9XPf"
    },
    {
      "cell_type": "code",
      "execution_count": null,
      "id": "7d371a74-e6e8-449f-add9-28546e9cc9e3",
      "metadata": {
        "id": "7d371a74-e6e8-449f-add9-28546e9cc9e3"
      },
      "outputs": [],
      "source": [
        "class VGG19_with_bn(nn.Module):\n",
        "    def __init__(self, num_classes=10):\n",
        "        super(VGG19_with_bn, self).__init__()\n",
        "        \n",
        "        self.conv1 = nn.Conv2d(3, 64, kernel_size=3, padding=1)\n",
        "        self.conv2 = nn.Conv2d(64, 64, kernel_size=3, padding=1)\n",
        "        self.conv3 = nn.Conv2d(64, 128, kernel_size=3, padding=1)\n",
        "        self.conv4 = nn.Conv2d(128, 128, kernel_size=3, padding=1)\n",
        "        self.conv5 = nn.Conv2d(128, 256, kernel_size=3, padding=1)\n",
        "        self.conv6 = nn.Conv2d(256, 256, kernel_size=3, padding=1)\n",
        "        self.conv7 = nn.Conv2d(256, 256, kernel_size=3, padding=1)\n",
        "        self.conv8 = nn.Conv2d(256, 256, kernel_size=3, padding=1)\n",
        "        self.conv9 = nn.Conv2d(256, 512, kernel_size=3, padding=1)\n",
        "        self.conv10 = nn.Conv2d(512, 512, kernel_size=3, padding=1)\n",
        "        self.conv11 = nn.Conv2d(512, 512, kernel_size=3, padding=1)\n",
        "        self.conv12 = nn.Conv2d(512, 512, kernel_size=3, padding=1)\n",
        "        self.conv13 = nn.Conv2d(512, 512, kernel_size=3, padding=1)\n",
        "        self.conv14 = nn.Conv2d(512, 512, kernel_size=3, padding=1)\n",
        "        self.conv15 = nn.Conv2d(512, 512, kernel_size=3, padding=1)\n",
        "        self.conv16 = nn.Conv2d(512, 512, kernel_size=3, padding=1)\n",
        "\n",
        "        self.maxpool = nn.MaxPool2d(kernel_size=2, stride=2)\n",
        "        self.dropout = nn.Dropout(p=0.5)\n",
        "        self.relu = nn.ReLU()\n",
        "  \n",
        "        self.fc1 = nn.Linear(7*7*512, 4096)\n",
        "        self.fc2 = nn.Linear(4096, 4096)\n",
        "        self.fc3 = nn.Linear(4096, num_classes)\n",
        "\n",
        "        self.bn1 = nn.BatchNorm2d(64)\n",
        "        self.bn2 = nn.BatchNorm2d(128)\n",
        "        self.bn3 = nn.BatchNorm2d(256)\n",
        "        self.bn4 = nn.BatchNorm2d(512)\n",
        "\n",
        "        # Initialise weights\n",
        "        for m in self.modules():\n",
        "            if isinstance(m, nn.Conv2d):\n",
        "                init.xavier_uniform_(m.weight)\n",
        "                if m.bias is not None:\n",
        "                    init.constant_(m.bias, 0)\n",
        "            elif isinstance(m, nn.Linear):\n",
        "                init.xavier_uniform_(m.weight)\n",
        "                init.constant_(m.bias, 0)\n",
        "            elif isinstance(m, nn.BatchNorm2d):\n",
        "                nn.init.constant_(m.weight, 1)\n",
        "                nn.init.constant_(m.bias, 0)\n",
        "\n",
        "    def forward(self, input):\n",
        "        x = self.relu(self.bn1(self.conv1(input)))\n",
        "        x = self.relu(self.bn1(self.conv2(x)))\n",
        "        x = self.maxpool(x)\n",
        "        x = self.relu(self.bn2(self.conv3(x)))\n",
        "        x = self.relu(self.bn2(self.conv4(x)))\n",
        "        x = self.maxpool(x)\n",
        "        x = self.relu(self.bn3(self.conv5(x)))\n",
        "        x = self.relu(self.bn3(self.conv6(x)))\n",
        "        x = self.relu(self.bn3(self.conv7(x)))\n",
        "        x = self.relu(self.bn3(self.conv8(x)))\n",
        "        x = self.maxpool(x)\n",
        "        x = self.relu(self.bn4(self.conv9(x)))\n",
        "        x = self.relu(self.bn4(self.conv10(x)))\n",
        "        x = self.relu(self.bn4(self.conv11(x)))\n",
        "        x = self.relu(self.bn4(self.conv12(x)))\n",
        "        x = self.maxpool(x)\n",
        "        x = self.relu(self.bn4(self.conv13(x)))\n",
        "        x = self.relu(self.bn4(self.conv14(x)))\n",
        "        x = self.relu(self.bn4(self.conv15(x)))\n",
        "        x = self.relu(self.bn4(self.conv16(x)))\n",
        "        x = self.maxpool(x)\n",
        "\n",
        "        x = torch.flatten(x, start_dim=1)\n",
        "        \n",
        "        x = self.relu(self.fc1(x))\n",
        "        x = self.dropout(x)\n",
        "        x = self.relu(self.fc2(x))\n",
        "        x = self.dropout(x)\n",
        "        x = self.fc3(x)\n",
        "\n",
        "        x = F.log_softmax(x, dim=1)\n",
        "        return x\n"
      ]
    },
    {
      "cell_type": "markdown",
      "id": "a3212682-5bc8-4ec5-acab-0df5915d84b4",
      "metadata": {
        "id": "a3212682-5bc8-4ec5-acab-0df5915d84b4"
      },
      "source": [
        "### Set hyperparameters and train model"
      ]
    },
    {
      "cell_type": "code",
      "execution_count": null,
      "id": "bf3b109e-f170-4cfa-988d-a9465d10a308",
      "metadata": {
        "tags": [],
        "id": "bf3b109e-f170-4cfa-988d-a9465d10a308",
        "colab": {
          "base_uri": "https://localhost:8080/"
        },
        "outputId": "fd340351-e6c0-4bb8-e756-47bcbd4853c9"
      },
      "outputs": [
        {
          "output_type": "stream",
          "name": "stdout",
          "text": [
            "Files already downloaded and verified\n",
            "Files already downloaded and verified\n"
          ]
        }
      ],
      "source": [
        "# Initialise the device for training, if gpu is available, device = 'cuda', else: device = 'cpu'\n",
        "device = torch.device('cuda' if torch.cuda.is_available() else 'cpu')\n",
        "\n",
        "# training parameters\n",
        "epochs = 30\n",
        "batch_size = 256\n",
        "learning_rate = 0.01\n",
        "momentum = 0.9\n",
        "weight_decay = 5*10e-4\n",
        "batch_norm = True\n",
        "\n",
        "# Construct the dataset and data loader\n",
        "train_transform = transforms.Compose([\n",
        "    transforms.ToTensor(),\n",
        "    transforms.Normalize((0.49, 0.48, 0.45), (0.25, 0.24, 0.26)),\n",
        "    transforms.Resize((224, 224)),\n",
        "    transforms.RandomHorizontalFlip(),\n",
        "])\n",
        "\n",
        "test_transform = transforms.Compose([\n",
        "    transforms.ToTensor(),\n",
        "    transforms.Normalize((0.49, 0.48, 0.45), (0.25, 0.24, 0.26)),\n",
        "    transforms.Resize((224, 224)),\n",
        "])\n",
        "\n",
        "train_data = datasets.CIFAR10(root='.', train=True, download=True, transform=train_transform)\n",
        "test_data = datasets.CIFAR10(root='.', train=False, download=True, transform=test_transform)\n",
        "\n",
        "train_dataloader = DataLoader(dataset=train_data, batch_size=batch_size, shuffle=True)\n",
        "test_dataloader = DataLoader(dataset=test_data, batch_size=batch_size, shuffle=False)\n",
        "\n",
        "# Declare the network\n",
        "model = VGG19_with_bn(num_classes=10).to(device)\n",
        "\n",
        "# Loss function - Cross Entropy \n",
        "loss_fn = nn.CrossEntropyLoss().to(device)\n",
        "\n",
        "# Optimizer - Stochastic Gradient Descent\n",
        "optimizer = optim.SGD(model.parameters(), lr = learning_rate, momentum=momentum, weight_decay=weight_decay)\n",
        "scheduler = lr_scheduler.MultiStepLR(optimizer, milestones=[15,25], gamma=0.1)\n",
        "# lr_scheduler.StepLR(optimizer, step_size=5, gamma=0.01)"
      ]
    },
    {
      "cell_type": "code",
      "source": [
        "# Initialize wandb\n",
        "run = wandb.init(\n",
        "    # set the wandb project where this run will be logged\n",
        "    project=\"VGG-training-cifar10\",\n",
        "    \n",
        "    # track hyperparameters and run metadata\n",
        "    config={\n",
        "        \"architecture\": \"VGG\",\n",
        "        \"dataset\": \"CIFAR-10\",\n",
        "        \"epochs\": epochs,\n",
        "        \"batch_size\": batch_size,\n",
        "        \"learning_rate\": learning_rate,\n",
        "        \"momentum\": \"none\",\n",
        "        \"weight_decay\": weight_decay,\n",
        "        \"batch_norm\": batch_norm,\n",
        "        \"written_model\": \"yes\",\n",
        "        \"data-augmentation\":\"none\",\n",
        "        \"others\": \"dropout 0.5 , lr scheduler 5, 0.1 gamma, weight init\",\n",
        "        \"optimizer\": \"sgd\",\n",
        "        \"log_softmax\": \"yes\",\n",
        "        \"calculated data normalization\": \"yes\"\n",
        "    }\n",
        ")\n",
        "\n",
        "# Keep track of training and test loss\n",
        "total_loss = [[], [], []]\n"
      ],
      "metadata": {
        "id": "En8WWoqOYtW-",
        "colab": {
          "base_uri": "https://localhost:8080/",
          "height": 104
        },
        "outputId": "9b3870be-fd79-43a8-994f-e7f66f49fa9f"
      },
      "id": "En8WWoqOYtW-",
      "execution_count": null,
      "outputs": [
        {
          "output_type": "display_data",
          "data": {
            "text/plain": [
              "<IPython.core.display.HTML object>"
            ],
            "text/html": [
              "Tracking run with wandb version 0.15.2"
            ]
          },
          "metadata": {}
        },
        {
          "output_type": "display_data",
          "data": {
            "text/plain": [
              "<IPython.core.display.HTML object>"
            ],
            "text/html": [
              "Run data is saved locally in <code>/content/wandb/run-20230511_150608-12n6lhkq</code>"
            ]
          },
          "metadata": {}
        },
        {
          "output_type": "display_data",
          "data": {
            "text/plain": [
              "<IPython.core.display.HTML object>"
            ],
            "text/html": [
              "Syncing run <strong><a href='https://wandb.ai/temitope-joloko/VGG-training-cifar10/runs/12n6lhkq' target=\"_blank\">magic-violet-29</a></strong> to <a href='https://wandb.ai/temitope-joloko/VGG-training-cifar10' target=\"_blank\">Weights & Biases</a> (<a href='https://wandb.me/run' target=\"_blank\">docs</a>)<br/>"
            ]
          },
          "metadata": {}
        },
        {
          "output_type": "display_data",
          "data": {
            "text/plain": [
              "<IPython.core.display.HTML object>"
            ],
            "text/html": [
              " View project at <a href='https://wandb.ai/temitope-joloko/VGG-training-cifar10' target=\"_blank\">https://wandb.ai/temitope-joloko/VGG-training-cifar10</a>"
            ]
          },
          "metadata": {}
        },
        {
          "output_type": "display_data",
          "data": {
            "text/plain": [
              "<IPython.core.display.HTML object>"
            ],
            "text/html": [
              " View run at <a href='https://wandb.ai/temitope-joloko/VGG-training-cifar10/runs/12n6lhkq' target=\"_blank\">https://wandb.ai/temitope-joloko/VGG-training-cifar10/runs/12n6lhkq</a>"
            ]
          },
          "metadata": {}
        }
      ]
    },
    {
      "cell_type": "code",
      "execution_count": null,
      "id": "c67a4406-3d21-4276-96eb-365ad5519856",
      "metadata": {
        "tags": [],
        "id": "c67a4406-3d21-4276-96eb-365ad5519856"
      },
      "outputs": [],
      "source": [
        "def train_loop(dataloader, model, loss_fn, optimizer):\n",
        "    size = len(dataloader.dataset)\n",
        "    running_loss = []\n",
        "\n",
        "    for (images, labels) in tqdm((dataloader)):\n",
        "        images = images.to(device)\n",
        "        labels = labels.to(device)\n",
        "\n",
        "        pred = model(images)\n",
        "        loss = loss_fn(pred, labels)\n",
        "      \n",
        "        # Backpropagation\n",
        "        optimizer.zero_grad()\n",
        "        loss.backward()\n",
        "        optimizer.step()\n",
        "\n",
        "        running_loss.append(loss.item())\n",
        "\n",
        "    scheduler.step()\n",
        "    epoch_loss = np.mean(running_loss)\n",
        "    print(f'loss: {epoch_loss:.3f}')\n",
        "    return epoch_loss\n",
        "\n",
        "def test_loop(dataloader, model, loss_fn):\n",
        "    size = len(dataloader.dataset)\n",
        "    num_batches = len(dataloader)\n",
        "    test_loss, correct, correct_5 = 0, 0, 0\n",
        "\n",
        "    with torch.no_grad():\n",
        "        for images, labels in dataloader:\n",
        "            images = images.to(device)\n",
        "            labels = labels.to(device)\n",
        "            pred = model(images)\n",
        "            \n",
        "            test_loss += loss_fn(pred, labels).item()\n",
        "            correct += (pred.argmax(1) == labels).type(torch.float).sum().item()\n",
        "            \n",
        "            # Calculate top-5 accuracy\n",
        "            _, pred_5 = pred.topk(5)\n",
        "\n",
        "            for i in range(len(labels)):\n",
        "                if labels[i] in pred_5[i]:\n",
        "                    correct_5 += 1\n",
        "\n",
        "\n",
        "    test_loss /= num_batches\n",
        "    correct /= size\n",
        "    correct_5/=size\n",
        "    print(f\"Test Error: \\n Accuracy: {(100*correct):>0.1f}%, Top-5 Accuracy: {(100*correct_5):>0.1f}%, \\n Loss: {test_loss:>8f} \\n\")\n",
        "    \n",
        "    return test_loss, correct*100, correct_5*100"
      ]
    },
    {
      "cell_type": "code",
      "execution_count": null,
      "id": "0c0f7275-4a3d-46da-97e8-f9cd2788545d",
      "metadata": {
        "id": "0c0f7275-4a3d-46da-97e8-f9cd2788545d",
        "colab": {
          "base_uri": "https://localhost:8080/"
        },
        "outputId": "eff4c989-ef81-4a0d-fb44-76133815b6a0"
      },
      "outputs": [
        {
          "output_type": "stream",
          "name": "stdout",
          "text": [
            "Starting Training Loop...\n",
            "Epoch 1\n",
            "-------------------------------\n"
          ]
        },
        {
          "output_type": "stream",
          "name": "stderr",
          "text": [
            "100%|██████████| 196/196 [02:54<00:00,  1.12it/s]\n"
          ]
        },
        {
          "output_type": "stream",
          "name": "stdout",
          "text": [
            "loss: 2.753\n",
            "Test Error: \n",
            " Accuracy: 17.8%, Top-5 Accuracy: 70.3%, \n",
            " Loss: 2.230572 \n",
            "\n",
            "current lr [0.01]\n",
            "Epoch 1 of 30 with 192.00 s\n",
            "Epoch 2\n",
            "-------------------------------\n"
          ]
        },
        {
          "output_type": "stream",
          "name": "stderr",
          "text": [
            "100%|██████████| 196/196 [02:53<00:00,  1.13it/s]\n"
          ]
        },
        {
          "output_type": "stream",
          "name": "stdout",
          "text": [
            "loss: 1.908\n",
            "Test Error: \n",
            " Accuracy: 35.1%, Top-5 Accuracy: 86.8%, \n",
            " Loss: 1.750786 \n",
            "\n",
            "current lr [0.01]\n",
            "Epoch 2 of 30 with 191.30 s\n",
            "Epoch 3\n",
            "-------------------------------\n"
          ]
        },
        {
          "output_type": "stream",
          "name": "stderr",
          "text": [
            "100%|██████████| 196/196 [02:53<00:00,  1.13it/s]\n"
          ]
        },
        {
          "output_type": "stream",
          "name": "stdout",
          "text": [
            "loss: 1.617\n",
            "Test Error: \n",
            " Accuracy: 44.5%, Top-5 Accuracy: 91.6%, \n",
            " Loss: 1.511064 \n",
            "\n",
            "current lr [0.01]\n",
            "Epoch 3 of 30 with 191.15 s\n",
            "Epoch 4\n",
            "-------------------------------\n"
          ]
        },
        {
          "output_type": "stream",
          "name": "stderr",
          "text": [
            "100%|██████████| 196/196 [02:53<00:00,  1.13it/s]\n"
          ]
        },
        {
          "output_type": "stream",
          "name": "stdout",
          "text": [
            "loss: 1.434\n",
            "Test Error: \n",
            " Accuracy: 50.8%, Top-5 Accuracy: 93.6%, \n",
            " Loss: 1.344176 \n",
            "\n",
            "current lr [0.01]\n",
            "Epoch 4 of 30 with 191.28 s\n",
            "Epoch 5\n",
            "-------------------------------\n"
          ]
        },
        {
          "output_type": "stream",
          "name": "stderr",
          "text": [
            "100%|██████████| 196/196 [02:53<00:00,  1.13it/s]\n"
          ]
        },
        {
          "output_type": "stream",
          "name": "stdout",
          "text": [
            "loss: 1.257\n",
            "Test Error: \n",
            " Accuracy: 57.0%, Top-5 Accuracy: 95.0%, \n",
            " Loss: 1.185415 \n",
            "\n",
            "current lr [0.01]\n",
            "Epoch 5 of 30 with 191.50 s\n",
            "Epoch 6\n",
            "-------------------------------\n"
          ]
        },
        {
          "output_type": "stream",
          "name": "stderr",
          "text": [
            "100%|██████████| 196/196 [02:54<00:00,  1.13it/s]\n"
          ]
        },
        {
          "output_type": "stream",
          "name": "stdout",
          "text": [
            "loss: 1.071\n",
            "Test Error: \n",
            " Accuracy: 64.8%, Top-5 Accuracy: 96.8%, \n",
            " Loss: 0.996965 \n",
            "\n",
            "current lr [0.01]\n",
            "Epoch 6 of 30 with 191.26 s\n",
            "Epoch 7\n",
            "-------------------------------\n"
          ]
        },
        {
          "output_type": "stream",
          "name": "stderr",
          "text": [
            "100%|██████████| 196/196 [02:54<00:00,  1.13it/s]\n"
          ]
        },
        {
          "output_type": "stream",
          "name": "stdout",
          "text": [
            "loss: 0.905\n",
            "Test Error: \n",
            " Accuracy: 68.5%, Top-5 Accuracy: 97.5%, \n",
            " Loss: 0.892371 \n",
            "\n",
            "current lr [0.01]\n",
            "Epoch 7 of 30 with 191.51 s\n",
            "Epoch 8\n",
            "-------------------------------\n"
          ]
        },
        {
          "output_type": "stream",
          "name": "stderr",
          "text": [
            "100%|██████████| 196/196 [02:54<00:00,  1.13it/s]\n"
          ]
        },
        {
          "output_type": "stream",
          "name": "stdout",
          "text": [
            "loss: 0.766\n",
            "Test Error: \n",
            " Accuracy: 74.1%, Top-5 Accuracy: 98.4%, \n",
            " Loss: 0.748406 \n",
            "\n",
            "current lr [0.01]\n",
            "Epoch 8 of 30 with 191.55 s\n",
            "Epoch 9\n",
            "-------------------------------\n"
          ]
        },
        {
          "output_type": "stream",
          "name": "stderr",
          "text": [
            "100%|██████████| 196/196 [02:54<00:00,  1.13it/s]\n"
          ]
        },
        {
          "output_type": "stream",
          "name": "stdout",
          "text": [
            "loss: 0.669\n",
            "Test Error: \n",
            " Accuracy: 77.7%, Top-5 Accuracy: 98.5%, \n",
            " Loss: 0.665572 \n",
            "\n",
            "current lr [0.01]\n",
            "Epoch 9 of 30 with 191.57 s\n",
            "Epoch 10\n",
            "-------------------------------\n"
          ]
        },
        {
          "output_type": "stream",
          "name": "stderr",
          "text": [
            "100%|██████████| 196/196 [02:53<00:00,  1.13it/s]\n"
          ]
        },
        {
          "output_type": "stream",
          "name": "stdout",
          "text": [
            "loss: 0.585\n",
            "Test Error: \n",
            " Accuracy: 78.5%, Top-5 Accuracy: 98.7%, \n",
            " Loss: 0.623914 \n",
            "\n",
            "current lr [0.01]\n",
            "Epoch 10 of 30 with 191.10 s\n",
            "Epoch 11\n",
            "-------------------------------\n"
          ]
        },
        {
          "output_type": "stream",
          "name": "stderr",
          "text": [
            "100%|██████████| 196/196 [02:54<00:00,  1.13it/s]\n"
          ]
        },
        {
          "output_type": "stream",
          "name": "stdout",
          "text": [
            "loss: 0.526\n",
            "Test Error: \n",
            " Accuracy: 81.3%, Top-5 Accuracy: 99.0%, \n",
            " Loss: 0.552945 \n",
            "\n",
            "current lr [0.01]\n",
            "Epoch 11 of 30 with 191.53 s\n",
            "Epoch 12\n",
            "-------------------------------\n"
          ]
        },
        {
          "output_type": "stream",
          "name": "stderr",
          "text": [
            "100%|██████████| 196/196 [02:54<00:00,  1.13it/s]\n"
          ]
        },
        {
          "output_type": "stream",
          "name": "stdout",
          "text": [
            "loss: 0.470\n",
            "Test Error: \n",
            " Accuracy: 81.8%, Top-5 Accuracy: 99.1%, \n",
            " Loss: 0.530915 \n",
            "\n",
            "current lr [0.01]\n",
            "Epoch 12 of 30 with 191.53 s\n",
            "Epoch 13\n",
            "-------------------------------\n"
          ]
        },
        {
          "output_type": "stream",
          "name": "stderr",
          "text": [
            "100%|██████████| 196/196 [02:53<00:00,  1.13it/s]\n"
          ]
        },
        {
          "output_type": "stream",
          "name": "stdout",
          "text": [
            "loss: 0.427\n",
            "Test Error: \n",
            " Accuracy: 83.5%, Top-5 Accuracy: 99.2%, \n",
            " Loss: 0.510423 \n",
            "\n",
            "current lr [0.01]\n",
            "Epoch 13 of 30 with 191.24 s\n",
            "Epoch 14\n",
            "-------------------------------\n"
          ]
        },
        {
          "output_type": "stream",
          "name": "stderr",
          "text": [
            "100%|██████████| 196/196 [02:54<00:00,  1.12it/s]\n"
          ]
        },
        {
          "output_type": "stream",
          "name": "stdout",
          "text": [
            "loss: 0.392\n",
            "Test Error: \n",
            " Accuracy: 84.3%, Top-5 Accuracy: 99.3%, \n",
            " Loss: 0.468166 \n",
            "\n",
            "current lr [0.01]\n",
            "Epoch 14 of 30 with 191.65 s\n",
            "Epoch 15\n",
            "-------------------------------\n"
          ]
        },
        {
          "output_type": "stream",
          "name": "stderr",
          "text": [
            "100%|██████████| 196/196 [02:53<00:00,  1.13it/s]\n"
          ]
        },
        {
          "output_type": "stream",
          "name": "stdout",
          "text": [
            "loss: 0.360\n",
            "Test Error: \n",
            " Accuracy: 85.2%, Top-5 Accuracy: 99.4%, \n",
            " Loss: 0.452650 \n",
            "\n",
            "current lr [0.001]\n",
            "Epoch 15 of 30 with 191.18 s\n",
            "Epoch 16\n",
            "-------------------------------\n"
          ]
        },
        {
          "output_type": "stream",
          "name": "stderr",
          "text": [
            "100%|██████████| 196/196 [02:54<00:00,  1.13it/s]\n"
          ]
        },
        {
          "output_type": "stream",
          "name": "stdout",
          "text": [
            "loss: 0.225\n",
            "Test Error: \n",
            " Accuracy: 89.1%, Top-5 Accuracy: 99.6%, \n",
            " Loss: 0.329808 \n",
            "\n",
            "current lr [0.001]\n",
            "Epoch 16 of 30 with 191.44 s\n",
            "Epoch 17\n",
            "-------------------------------\n"
          ]
        },
        {
          "output_type": "stream",
          "name": "stderr",
          "text": [
            "100%|██████████| 196/196 [02:54<00:00,  1.13it/s]\n"
          ]
        },
        {
          "output_type": "stream",
          "name": "stdout",
          "text": [
            "loss: 0.180\n",
            "Test Error: \n",
            " Accuracy: 89.3%, Top-5 Accuracy: 99.7%, \n",
            " Loss: 0.321036 \n",
            "\n",
            "current lr [0.001]\n",
            "Epoch 17 of 30 with 191.44 s\n",
            "Epoch 18\n",
            "-------------------------------\n"
          ]
        },
        {
          "output_type": "stream",
          "name": "stderr",
          "text": [
            "100%|██████████| 196/196 [02:53<00:00,  1.13it/s]\n"
          ]
        },
        {
          "output_type": "stream",
          "name": "stdout",
          "text": [
            "loss: 0.162\n",
            "Test Error: \n",
            " Accuracy: 89.6%, Top-5 Accuracy: 99.7%, \n",
            " Loss: 0.311691 \n",
            "\n",
            "current lr [0.001]\n",
            "Epoch 18 of 30 with 191.14 s\n",
            "Epoch 19\n",
            "-------------------------------\n"
          ]
        },
        {
          "output_type": "stream",
          "name": "stderr",
          "text": [
            "100%|██████████| 196/196 [02:54<00:00,  1.13it/s]\n"
          ]
        },
        {
          "output_type": "stream",
          "name": "stdout",
          "text": [
            "loss: 0.145\n",
            "Test Error: \n",
            " Accuracy: 89.6%, Top-5 Accuracy: 99.7%, \n",
            " Loss: 0.308476 \n",
            "\n",
            "current lr [0.001]\n",
            "Epoch 19 of 30 with 191.30 s\n",
            "Epoch 20\n",
            "-------------------------------\n"
          ]
        },
        {
          "output_type": "stream",
          "name": "stderr",
          "text": [
            "100%|██████████| 196/196 [02:53<00:00,  1.13it/s]\n"
          ]
        },
        {
          "output_type": "stream",
          "name": "stdout",
          "text": [
            "loss: 0.128\n",
            "Test Error: \n",
            " Accuracy: 89.9%, Top-5 Accuracy: 99.7%, \n",
            " Loss: 0.309204 \n",
            "\n",
            "current lr [0.001]\n",
            "Epoch 20 of 30 with 191.38 s\n",
            "Epoch 21\n",
            "-------------------------------\n"
          ]
        },
        {
          "output_type": "stream",
          "name": "stderr",
          "text": [
            "100%|██████████| 196/196 [02:53<00:00,  1.13it/s]\n"
          ]
        },
        {
          "output_type": "stream",
          "name": "stdout",
          "text": [
            "loss: 0.116\n",
            "Test Error: \n",
            " Accuracy: 90.2%, Top-5 Accuracy: 99.7%, \n",
            " Loss: 0.308606 \n",
            "\n",
            "current lr [0.001]\n",
            "Epoch 21 of 30 with 191.48 s\n",
            "Epoch 22\n",
            "-------------------------------\n"
          ]
        },
        {
          "output_type": "stream",
          "name": "stderr",
          "text": [
            "100%|██████████| 196/196 [02:54<00:00,  1.13it/s]\n"
          ]
        },
        {
          "output_type": "stream",
          "name": "stdout",
          "text": [
            "loss: 0.106\n",
            "Test Error: \n",
            " Accuracy: 90.2%, Top-5 Accuracy: 99.7%, \n",
            " Loss: 0.307665 \n",
            "\n",
            "current lr [0.001]\n",
            "Epoch 22 of 30 with 191.65 s\n",
            "Epoch 23\n",
            "-------------------------------\n"
          ]
        },
        {
          "output_type": "stream",
          "name": "stderr",
          "text": [
            "100%|██████████| 196/196 [02:54<00:00,  1.13it/s]\n"
          ]
        },
        {
          "output_type": "stream",
          "name": "stdout",
          "text": [
            "loss: 0.093\n",
            "Test Error: \n",
            " Accuracy: 90.2%, Top-5 Accuracy: 99.7%, \n",
            " Loss: 0.302191 \n",
            "\n",
            "current lr [0.001]\n",
            "Epoch 23 of 30 with 191.39 s\n",
            "Epoch 24\n",
            "-------------------------------\n"
          ]
        },
        {
          "output_type": "stream",
          "name": "stderr",
          "text": [
            "100%|██████████| 196/196 [02:54<00:00,  1.12it/s]\n"
          ]
        },
        {
          "output_type": "stream",
          "name": "stdout",
          "text": [
            "loss: 0.083\n",
            "Test Error: \n",
            " Accuracy: 90.0%, Top-5 Accuracy: 99.8%, \n",
            " Loss: 0.305286 \n",
            "\n",
            "current lr [0.001]\n",
            "Epoch 24 of 30 with 191.87 s\n",
            "Epoch 25\n",
            "-------------------------------\n"
          ]
        },
        {
          "output_type": "stream",
          "name": "stderr",
          "text": [
            "100%|██████████| 196/196 [02:54<00:00,  1.13it/s]\n"
          ]
        },
        {
          "output_type": "stream",
          "name": "stdout",
          "text": [
            "loss: 0.074\n",
            "Test Error: \n",
            " Accuracy: 90.1%, Top-5 Accuracy: 99.7%, \n",
            " Loss: 0.313447 \n",
            "\n",
            "current lr [0.0001]\n",
            "Epoch 25 of 30 with 191.71 s\n",
            "Epoch 26\n",
            "-------------------------------\n"
          ]
        },
        {
          "output_type": "stream",
          "name": "stderr",
          "text": [
            "100%|██████████| 196/196 [02:53<00:00,  1.13it/s]\n"
          ]
        },
        {
          "output_type": "stream",
          "name": "stdout",
          "text": [
            "loss: 0.054\n",
            "Test Error: \n",
            " Accuracy: 91.0%, Top-5 Accuracy: 99.7%, \n",
            " Loss: 0.289377 \n",
            "\n",
            "current lr [0.0001]\n",
            "Epoch 26 of 30 with 191.47 s\n",
            "Epoch 27\n",
            "-------------------------------\n"
          ]
        },
        {
          "output_type": "stream",
          "name": "stderr",
          "text": [
            "100%|██████████| 196/196 [02:54<00:00,  1.12it/s]\n"
          ]
        },
        {
          "output_type": "stream",
          "name": "stdout",
          "text": [
            "loss: 0.051\n",
            "Test Error: \n",
            " Accuracy: 90.6%, Top-5 Accuracy: 99.7%, \n",
            " Loss: 0.293435 \n",
            "\n",
            "current lr [0.0001]\n",
            "Epoch 27 of 30 with 191.82 s\n",
            "Epoch 28\n",
            "-------------------------------\n"
          ]
        },
        {
          "output_type": "stream",
          "name": "stderr",
          "text": [
            "100%|██████████| 196/196 [02:54<00:00,  1.12it/s]\n"
          ]
        },
        {
          "output_type": "stream",
          "name": "stdout",
          "text": [
            "loss: 0.048\n",
            "Test Error: \n",
            " Accuracy: 90.9%, Top-5 Accuracy: 99.7%, \n",
            " Loss: 0.294809 \n",
            "\n",
            "current lr [0.0001]\n",
            "Epoch 28 of 30 with 191.82 s\n",
            "Epoch 29\n",
            "-------------------------------\n"
          ]
        },
        {
          "output_type": "stream",
          "name": "stderr",
          "text": [
            "100%|██████████| 196/196 [02:54<00:00,  1.12it/s]\n"
          ]
        },
        {
          "output_type": "stream",
          "name": "stdout",
          "text": [
            "loss: 0.048\n",
            "Test Error: \n",
            " Accuracy: 90.8%, Top-5 Accuracy: 99.8%, \n",
            " Loss: 0.287515 \n",
            "\n",
            "current lr [0.0001]\n",
            "Epoch 29 of 30 with 192.10 s\n",
            "Epoch 30\n",
            "-------------------------------\n"
          ]
        },
        {
          "output_type": "stream",
          "name": "stderr",
          "text": [
            "100%|██████████| 196/196 [02:54<00:00,  1.12it/s]\n"
          ]
        },
        {
          "output_type": "stream",
          "name": "stdout",
          "text": [
            "loss: 0.045\n",
            "Test Error: \n",
            " Accuracy: 91.1%, Top-5 Accuracy: 99.7%, \n",
            " Loss: 0.291192 \n",
            "\n",
            "current lr [0.0001]\n",
            "Epoch 30 of 30 with 192.24 s\n",
            "Done!\n",
            "Total time 5745.60\n"
          ]
        }
      ],
      "source": [
        "print(\"Starting Training Loop...\")\n",
        "start_time = time.time()\n",
        "\n",
        "for t in range(epochs):\n",
        "    epoch_start_time = time.time()\n",
        "    print(f\"Epoch {t+1}\\n-------------------------------\")\n",
        "\n",
        "    epoch_loss = train_loop(train_dataloader, model, loss_fn, optimizer)\n",
        "    test_loss, top1_accuracy, top5_accuracy = test_loop(test_dataloader, model, loss_fn)\n",
        "    \n",
        "    total_loss[0].append(t+1)\n",
        "    total_loss[1].append(epoch_loss)\n",
        "    total_loss[2].append(test_loss)\n",
        "    \n",
        "    wandb.log({ \"training_loss\": epoch_loss, \"test_loss\": test_loss, \"acc\": top1_accuracy, \"top5_accuracy\": top5_accuracy })\n",
        "\n",
        "    print(\"current lr\", scheduler.get_last_lr())\n",
        "    epoch_end_time = time.time()\n",
        "    per_epoch_ptime = epoch_end_time - epoch_start_time\n",
        "    print(\"Epoch %d of %d with %.2f s\" % (t + 1, epochs, per_epoch_ptime))\n",
        "\n",
        "\n",
        "print(\"Done!\")\n",
        "end_time = time.time()\n",
        "total_ptime = end_time - start_time\n",
        "print(\"Total time %.2f\" % (total_ptime))"
      ]
    },
    {
      "cell_type": "code",
      "execution_count": null,
      "id": "922875c7-4338-4484-bd75-ad5b68c6e7ad",
      "metadata": {
        "tags": [],
        "id": "922875c7-4338-4484-bd75-ad5b68c6e7ad"
      },
      "outputs": [],
      "source": [
        "test_loop(test_dataloader, model, loss_fn)"
      ]
    },
    {
      "cell_type": "code",
      "execution_count": null,
      "id": "64b8dc48-b827-40ac-be42-1721990d813e",
      "metadata": {
        "tags": [],
        "id": "64b8dc48-b827-40ac-be42-1721990d813e",
        "colab": {
          "base_uri": "https://localhost:8080/",
          "height": 472
        },
        "outputId": "e1c4ce2a-7a67-4e36-846f-a13718ce905e"
      },
      "outputs": [
        {
          "output_type": "display_data",
          "data": {
            "text/plain": [
              "<Figure size 640x480 with 1 Axes>"
            ],
            "image/png": "[encoded data removed]"
          },
          "metadata": {}
        }
      ],
      "source": [
        "plt.plot(total_loss[0], total_loss[1], label = \"Training loss\")\n",
        "plt.plot(total_loss[0], total_loss[2], label = \"Test loss\")\n",
        "\n",
        "# Add labels and title to the plot\n",
        "plt.xlabel('Epoch')\n",
        "plt.ylabel('Loss')\n",
        "plt.title('Training Loss')\n",
        "\n",
        "# Add legend\n",
        "plt.legend()\n",
        "\n",
        "# Show the plot\n",
        "plt.show()"
      ]
    },
    {
      "cell_type": "code",
      "execution_count": null,
      "id": "b6334b36-6b8a-44f6-b09f-51ed844c41c3",
      "metadata": {
        "id": "b6334b36-6b8a-44f6-b09f-51ed844c41c3",
        "colab": {
          "base_uri": "https://localhost:8080/",
          "height": 333,
          "referenced_widgets": [
            "ad46a889a98b46479558647ef7f8c7cd",
            "ab94dd927b6a403b951bac47603df372",
            "2b6434059a04466a9583f8a203db1125",
            "88c8685653834e05bfb7610f6ae692ed",
            "2803ddc8191240cb95094f2727262625",
            "7e70bb9c9e0a439ebe7844a782d52df1",
            "1ec7434929624a758ec7cafe88501bc5",
            "5b81e00122844678ab727c4abceaf535"
          ]
        },
        "outputId": "495c3843-c021-4724-8533-30c09b1678a5"
      },
      "outputs": [
        {
          "output_type": "display_data",
          "data": {
            "text/plain": [
              "<IPython.core.display.HTML object>"
            ],
            "text/html": [
              "Waiting for W&B process to finish... <strong style=\"color:green\">(success).</strong>"
            ]
          },
          "metadata": {}
        },
        {
          "output_type": "display_data",
          "data": {
            "text/plain": [
              "VBox(children=(Label(value='0.002 MB of 0.002 MB uploaded (0.000 MB deduped)\\r'), FloatProgress(value=1.0, max…"
            ],
            "application/vnd.jupyter.widget-view+json": {
              "version_major": 2,
              "version_minor": 0,
              "model_id": "ad46a889a98b46479558647ef7f8c7cd"
            }
          },
          "metadata": {}
        },
        {
          "output_type": "display_data",
          "data": {
            "text/plain": [
              "<IPython.core.display.HTML object>"
            ],
            "text/html": [
              "<style>\n",
              "    table.wandb td:nth-child(1) { padding: 0 10px; text-align: left ; width: auto;} td:nth-child(2) {text-align: left ; width: 100%}\n",
              "    .wandb-row { display: flex; flex-direction: row; flex-wrap: wrap; justify-content: flex-start; width: 100% }\n",
              "    .wandb-col { display: flex; flex-direction: column; flex-basis: 100%; flex: 1; padding: 10px; }\n",
              "    </style>\n",
              "<div class=\"wandb-row\"><div class=\"wandb-col\"><h3>Run history:</h3><br/><table class=\"wandb\"><tr><td>acc</td><td>▁▃▄▄▅▅▆▆▇▇▇▇▇▇▇███████████████</td></tr><tr><td>test_loss</td><td>█▆▅▅▄▄▃▃▂▂▂▂▂▂▂▁▁▁▁▁▁▁▁▁▁▁▁▁▁▁</td></tr><tr><td>top5_accuracy</td><td>▁▅▆▇▇▇▇███████████████████████</td></tr><tr><td>training_loss</td><td>█▆▅▅▄▄▃▃▃▂▂▂▂▂▂▁▁▁▁▁▁▁▁▁▁▁▁▁▁▁</td></tr></table><br/></div><div class=\"wandb-col\"><h3>Run summary:</h3><br/><table class=\"wandb\"><tr><td>acc</td><td>91.14</td></tr><tr><td>test_loss</td><td>0.29119</td></tr><tr><td>top5_accuracy</td><td>99.73</td></tr><tr><td>training_loss</td><td>0.04473</td></tr></table><br/></div></div>"
            ]
          },
          "metadata": {}
        },
        {
          "output_type": "display_data",
          "data": {
            "text/plain": [
              "<IPython.core.display.HTML object>"
            ],
            "text/html": [
              " View run <strong style=\"color:#cdcd00\">magic-violet-29</strong> at: <a href='https://wandb.ai/temitope-joloko/VGG-training-cifar10/runs/12n6lhkq' target=\"_blank\">https://wandb.ai/temitope-joloko/VGG-training-cifar10/runs/12n6lhkq</a><br/>Synced 5 W&B file(s), 0 media file(s), 0 artifact file(s) and 0 other file(s)"
            ]
          },
          "metadata": {}
        },
        {
          "output_type": "display_data",
          "data": {
            "text/plain": [
              "<IPython.core.display.HTML object>"
            ],
            "text/html": [
              "Find logs at: <code>./wandb/run-20230511_150608-12n6lhkq/logs</code>"
            ]
          },
          "metadata": {}
        }
      ],
      "source": [
        "# Close wandb run\n",
        "run.finish()"
      ]
    },
    {
      "cell_type": "code",
      "execution_count": null,
      "id": "36f2994c-f96d-4127-be22-06cdf438393e",
      "metadata": {
        "id": "36f2994c-f96d-4127-be22-06cdf438393e"
      },
      "outputs": [],
      "source": [
        "# Save model\n",
        "torch.save(model, 'vgg_cifar10_model.pth')\n",
        "torch.save(model.state_dict(), 'vgg_cifar10_model_weights.pth')"
      ]
    }
  ],
  "metadata": {
    "kernelspec": {
      "display_name": "Python 3 (ipykernel)",
      "language": "python",
      "name": "python3"
    },
    "language_info": {
      "codemirror_mode": {
        "name": "ipython",
        "version": 3
      },
      "file_extension": ".py",
      "mimetype": "text/x-python",
      "name": "python",
      "nbconvert_exporter": "python",
      "pygments_lexer": "ipython3",
      "version": "3.10.5"
    },
    "colab": {
      "provenance": [],
      "gpuType": "A100",
      "machine_shape": "hm"
    },
    "gpuClass": "standard",
    "accelerator": "GPU",
    "widgets": {
      "application/vnd.jupyter.widget-state+json": {
        "ad46a889a98b46479558647ef7f8c7cd": {
          "model_module": "@jupyter-widgets/controls",
          "model_name": "VBoxModel",
          "model_module_version": "1.5.0",
          "state": {
            "_dom_classes": [],
            "_model_module": "@jupyter-widgets/controls",
            "_model_module_version": "1.5.0",
            "_model_name": "VBoxModel",
            "_view_count": null,
            "_view_module": "@jupyter-widgets/controls",
            "_view_module_version": "1.5.0",
            "_view_name": "VBoxView",
            "box_style": "",
            "children": [
              "IPY_MODEL_ab94dd927b6a403b951bac47603df372",
              "IPY_MODEL_2b6434059a04466a9583f8a203db1125"
            ],
            "layout": "IPY_MODEL_88c8685653834e05bfb7610f6ae692ed"
          }
        },
        "ab94dd927b6a403b951bac47603df372": {
          "model_module": "@jupyter-widgets/controls",
          "model_name": "LabelModel",
          "model_module_version": "1.5.0",
          "state": {
            "_dom_classes": [],
            "_model_module": "@jupyter-widgets/controls",
            "_model_module_version": "1.5.0",
            "_model_name": "LabelModel",
            "_view_count": null,
            "_view_module": "@jupyter-widgets/controls",
            "_view_module_version": "1.5.0",
            "_view_name": "LabelView",
            "description": "",
            "description_tooltip": null,
            "layout": "IPY_MODEL_2803ddc8191240cb95094f2727262625",
            "placeholder": "​",
            "style": "IPY_MODEL_7e70bb9c9e0a439ebe7844a782d52df1",
            "value": "0.021 MB of 0.021 MB uploaded (0.000 MB deduped)\r"
          }
        },
        "2b6434059a04466a9583f8a203db1125": {
          "model_module": "@jupyter-widgets/controls",
          "model_name": "FloatProgressModel",
          "model_module_version": "1.5.0",
          "state": {
            "_dom_classes": [],
            "_model_module": "@jupyter-widgets/controls",
            "_model_module_version": "1.5.0",
            "_model_name": "FloatProgressModel",
            "_view_count": null,
            "_view_module": "@jupyter-widgets/controls",
            "_view_module_version": "1.5.0",
            "_view_name": "ProgressView",
            "bar_style": "",
            "description": "",
            "description_tooltip": null,
            "layout": "IPY_MODEL_1ec7434929624a758ec7cafe88501bc5",
            "max": 1,
            "min": 0,
            "orientation": "horizontal",
            "style": "IPY_MODEL_5b81e00122844678ab727c4abceaf535",
            "value": 1
          }
        },
        "88c8685653834e05bfb7610f6ae692ed": {
          "model_module": "@jupyter-widgets/base",
          "model_name": "LayoutModel",
          "model_module_version": "1.2.0",
          "state": {
            "_model_module": "@jupyter-widgets/base",
            "_model_module_version": "1.2.0",
            "_model_name": "LayoutModel",
            "_view_count": null,
            "_view_module": "@jupyter-widgets/base",
            "_view_module_version": "1.2.0",
            "_view_name": "LayoutView",
            "align_content": null,
            "align_items": null,
            "align_self": null,
            "border": null,
            "bottom": null,
            "display": null,
            "flex": null,
            "flex_flow": null,
            "grid_area": null,
            "grid_auto_columns": null,
            "grid_auto_flow": null,
            "grid_auto_rows": null,
            "grid_column": null,
            "grid_gap": null,
            "grid_row": null,
            "grid_template_areas": null,
            "grid_template_columns": null,
            "grid_template_rows": null,
            "height": null,
            "justify_content": null,
            "justify_items": null,
            "left": null,
            "margin": null,
            "max_height": null,
            "max_width": null,
            "min_height": null,
            "min_width": null,
            "object_fit": null,
            "object_position": null,
            "order": null,
            "overflow": null,
            "overflow_x": null,
            "overflow_y": null,
            "padding": null,
            "right": null,
            "top": null,
            "visibility": null,
            "width": null
          }
        },
        "2803ddc8191240cb95094f2727262625": {
          "model_module": "@jupyter-widgets/base",
          "model_name": "LayoutModel",
          "model_module_version": "1.2.0",
          "state": {
            "_model_module": "@jupyter-widgets/base",
            "_model_module_version": "1.2.0",
            "_model_name": "LayoutModel",
            "_view_count": null,
            "_view_module": "@jupyter-widgets/base",
            "_view_module_version": "1.2.0",
            "_view_name": "LayoutView",
            "align_content": null,
            "align_items": null,
            "align_self": null,
            "border": null,
            "bottom": null,
            "display": null,
            "flex": null,
            "flex_flow": null,
            "grid_area": null,
            "grid_auto_columns": null,
            "grid_auto_flow": null,
            "grid_auto_rows": null,
            "grid_column": null,
            "grid_gap": null,
            "grid_row": null,
            "grid_template_areas": null,
            "grid_template_columns": null,
            "grid_template_rows": null,
            "height": null,
            "justify_content": null,
            "justify_items": null,
            "left": null,
            "margin": null,
            "max_height": null,
            "max_width": null,
            "min_height": null,
            "min_width": null,
            "object_fit": null,
            "object_position": null,
            "order": null,
            "overflow": null,
            "overflow_x": null,
            "overflow_y": null,
            "padding": null,
            "right": null,
            "top": null,
            "visibility": null,
            "width": null
          }
        },
        "7e70bb9c9e0a439ebe7844a782d52df1": {
          "model_module": "@jupyter-widgets/controls",
          "model_name": "DescriptionStyleModel",
          "model_module_version": "1.5.0",
          "state": {
            "_model_module": "@jupyter-widgets/controls",
            "_model_module_version": "1.5.0",
            "_model_name": "DescriptionStyleModel",
            "_view_count": null,
            "_view_module": "@jupyter-widgets/base",
            "_view_module_version": "1.2.0",
            "_view_name": "StyleView",
            "description_width": ""
          }
        },
        "1ec7434929624a758ec7cafe88501bc5": {
          "model_module": "@jupyter-widgets/base",
          "model_name": "LayoutModel",
          "model_module_version": "1.2.0",
          "state": {
            "_model_module": "@jupyter-widgets/base",
            "_model_module_version": "1.2.0",
            "_model_name": "LayoutModel",
            "_view_count": null,
            "_view_module": "@jupyter-widgets/base",
            "_view_module_version": "1.2.0",
            "_view_name": "LayoutView",
            "align_content": null,
            "align_items": null,
            "align_self": null,
            "border": null,
            "bottom": null,
            "display": null,
            "flex": null,
            "flex_flow": null,
            "grid_area": null,
            "grid_auto_columns": null,
            "grid_auto_flow": null,
            "grid_auto_rows": null,
            "grid_column": null,
            "grid_gap": null,
            "grid_row": null,
            "grid_template_areas": null,
            "grid_template_columns": null,
            "grid_template_rows": null,
            "height": null,
            "justify_content": null,
            "justify_items": null,
            "left": null,
            "margin": null,
            "max_height": null,
            "max_width": null,
            "min_height": null,
            "min_width": null,
            "object_fit": null,
            "object_position": null,
            "order": null,
            "overflow": null,
            "overflow_x": null,
            "overflow_y": null,
            "padding": null,
            "right": null,
            "top": null,
            "visibility": null,
            "width": null
          }
        },
        "5b81e00122844678ab727c4abceaf535": {
          "model_module": "@jupyter-widgets/controls",
          "model_name": "ProgressStyleModel",
          "model_module_version": "1.5.0",
          "state": {
            "_model_module": "@jupyter-widgets/controls",
            "_model_module_version": "1.5.0",
            "_model_name": "ProgressStyleModel",
            "_view_count": null,
            "_view_module": "@jupyter-widgets/base",
            "_view_module_version": "1.2.0",
            "_view_name": "StyleView",
            "bar_color": null,
            "description_width": ""
          }
        }
      }
    }
  },
  "nbformat": 4,
  "nbformat_minor": 5
}