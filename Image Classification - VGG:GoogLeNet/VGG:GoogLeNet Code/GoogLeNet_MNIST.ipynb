{
  "cells": [
    {
      "cell_type": "code",
      "execution_count": 1,
      "id": "95ae4b1d-2a96-42b8-8244-30cfb45d11d0",
      "metadata": {
        "id": "95ae4b1d-2a96-42b8-8244-30cfb45d11d0",
        "tags": [],
        "colab": {
          "base_uri": "https://localhost:8080/"
        },
        "outputId": "31e752e0-9748-4b51-8578-428f412cfd79"
      },
      "outputs": [
        {
          "output_type": "stream",
          "name": "stdout",
          "text": [
            "Looking in indexes: https://pypi.org/simple, https://us-python.pkg.dev/colab-wheels/public/simple/\n",
            "Collecting wandb\n",
            "  Downloading wandb-0.15.2-py3-none-any.whl (2.0 MB)\n",
            "\u001b[2K     \u001b[90m━━━━━━━━━━━━━━━━━━━━━━━━━━━━━━━━━━━━━━━━\u001b[0m \u001b[32m2.0/2.0 MB\u001b[0m \u001b[31m23.7 MB/s\u001b[0m eta \u001b[36m0:00:00\u001b[0m\n",
            "\u001b[?25hRequirement already satisfied: Click!=8.0.0,>=7.0 in /usr/local/lib/python3.10/dist-packages (from wandb) (8.1.3)\n",
            "Collecting GitPython!=3.1.29,>=1.0.0 (from wandb)\n",
            "  Downloading GitPython-3.1.31-py3-none-any.whl (184 kB)\n",
            "\u001b[2K     \u001b[90m━━━━━━━━━━━━━━━━━━━━━━━━━━━━━━━━━━━━━━\u001b[0m \u001b[32m184.3/184.3 kB\u001b[0m \u001b[31m21.7 MB/s\u001b[0m eta \u001b[36m0:00:00\u001b[0m\n",
            "\u001b[?25hRequirement already satisfied: requests<3,>=2.0.0 in /usr/local/lib/python3.10/dist-packages (from wandb) (2.27.1)\n",
            "Requirement already satisfied: psutil>=5.0.0 in /usr/local/lib/python3.10/dist-packages (from wandb) (5.9.5)\n",
            "Collecting sentry-sdk>=1.0.0 (from wandb)\n",
            "  Downloading sentry_sdk-1.22.2-py2.py3-none-any.whl (203 kB)\n",
            "\u001b[2K     \u001b[90m━━━━━━━━━━━━━━━━━━━━━━━━━━━━━━━━━━━━━━\u001b[0m \u001b[32m203.3/203.3 kB\u001b[0m \u001b[31m23.8 MB/s\u001b[0m eta \u001b[36m0:00:00\u001b[0m\n",
            "\u001b[?25hCollecting docker-pycreds>=0.4.0 (from wandb)\n",
            "  Downloading docker_pycreds-0.4.0-py2.py3-none-any.whl (9.0 kB)\n",
            "Requirement already satisfied: PyYAML in /usr/local/lib/python3.10/dist-packages (from wandb) (6.0)\n",
            "Collecting pathtools (from wandb)\n",
            "  Downloading pathtools-0.1.2.tar.gz (11 kB)\n",
            "  Preparing metadata (setup.py) ... \u001b[?25l\u001b[?25hdone\n",
            "Collecting setproctitle (from wandb)\n",
            "  Downloading setproctitle-1.3.2-cp310-cp310-manylinux_2_5_x86_64.manylinux1_x86_64.manylinux_2_17_x86_64.manylinux2014_x86_64.whl (30 kB)\n",
            "Requirement already satisfied: setuptools in /usr/local/lib/python3.10/dist-packages (from wandb) (67.7.2)\n",
            "Requirement already satisfied: appdirs>=1.4.3 in /usr/local/lib/python3.10/dist-packages (from wandb) (1.4.4)\n",
            "Requirement already satisfied: protobuf!=4.21.0,<5,>=3.19.0 in /usr/local/lib/python3.10/dist-packages (from wandb) (3.20.3)\n",
            "Requirement already satisfied: six>=1.4.0 in /usr/local/lib/python3.10/dist-packages (from docker-pycreds>=0.4.0->wandb) (1.16.0)\n",
            "Collecting gitdb<5,>=4.0.1 (from GitPython!=3.1.29,>=1.0.0->wandb)\n",
            "  Downloading gitdb-4.0.10-py3-none-any.whl (62 kB)\n",
            "\u001b[2K     \u001b[90m━━━━━━━━━━━━━━━━━━━━━━━━━━━━━━━━━━━━━━━━\u001b[0m \u001b[32m62.7/62.7 kB\u001b[0m \u001b[31m8.0 MB/s\u001b[0m eta \u001b[36m0:00:00\u001b[0m\n",
            "\u001b[?25hRequirement already satisfied: urllib3<1.27,>=1.21.1 in /usr/local/lib/python3.10/dist-packages (from requests<3,>=2.0.0->wandb) (1.26.15)\n",
            "Requirement already satisfied: certifi>=2017.4.17 in /usr/local/lib/python3.10/dist-packages (from requests<3,>=2.0.0->wandb) (2022.12.7)\n",
            "Requirement already satisfied: charset-normalizer~=2.0.0 in /usr/local/lib/python3.10/dist-packages (from requests<3,>=2.0.0->wandb) (2.0.12)\n",
            "Requirement already satisfied: idna<4,>=2.5 in /usr/local/lib/python3.10/dist-packages (from requests<3,>=2.0.0->wandb) (3.4)\n",
            "Collecting smmap<6,>=3.0.1 (from gitdb<5,>=4.0.1->GitPython!=3.1.29,>=1.0.0->wandb)\n",
            "  Downloading smmap-5.0.0-py3-none-any.whl (24 kB)\n",
            "Building wheels for collected packages: pathtools\n",
            "  Building wheel for pathtools (setup.py) ... \u001b[?25l\u001b[?25hdone\n",
            "  Created wheel for pathtools: filename=pathtools-0.1.2-py3-none-any.whl size=8791 sha256=ad595a0e99ddb8050b7920d45e53cf9a719c29a5a4f2e09ef43194d866af502f\n",
            "  Stored in directory: /root/.cache/pip/wheels/e7/f3/22/152153d6eb222ee7a56ff8617d80ee5207207a8c00a7aab794\n",
            "Successfully built pathtools\n",
            "Installing collected packages: pathtools, smmap, setproctitle, sentry-sdk, docker-pycreds, gitdb, GitPython, wandb\n",
            "Successfully installed GitPython-3.1.31 docker-pycreds-0.4.0 gitdb-4.0.10 pathtools-0.1.2 sentry-sdk-1.22.2 setproctitle-1.3.2 smmap-5.0.0 wandb-0.15.2\n"
          ]
        }
      ],
      "source": [
        "# Install wandb for saving training logs\n",
        "!pip install wandb"
      ]
    },
    {
      "cell_type": "code",
      "execution_count": 2,
      "id": "638a329a-3c5e-4c6b-884b-5d1cc29692a2",
      "metadata": {
        "id": "638a329a-3c5e-4c6b-884b-5d1cc29692a2",
        "tags": []
      },
      "outputs": [],
      "source": [
        "import os\n",
        "import time\n",
        "from tqdm import tqdm\n",
        "import wandb\n",
        "import numpy as np\n",
        "import matplotlib.pyplot as plt\n",
        "\n",
        "import torch\n",
        "import torch.nn.init as init\n",
        "import torch.nn as nn\n",
        "import torch.nn.functional as F\n",
        "import torch.optim as optim\n",
        "import torch.optim.lr_scheduler as lr_scheduler\n",
        "from torch.utils.data import DataLoader\n",
        "\n",
        "import torchvision\n",
        "import torchvision.datasets as datasets\n",
        "import torchvision.transforms as transforms"
      ]
    },
    {
      "cell_type": "code",
      "execution_count": 4,
      "id": "94b4fe0f-0914-4e37-9266-edfad35d357a",
      "metadata": {
        "id": "94b4fe0f-0914-4e37-9266-edfad35d357a",
        "tags": []
      },
      "outputs": [],
      "source": [
        "class GoogLeNet(nn.Module):\n",
        "    def __init__(self, num_classes):\n",
        "        super(GoogLeNet, self).__init__()\n",
        "        \n",
        "        self.conv1 = ConvBlock(3, 64, kernel_size=7, stride=2, padding=3)\n",
        "        self.maxpool = nn.MaxPool2d(kernel_size=3, stride=2, padding=1)\n",
        "        self.conv2 = nn.Sequential(\n",
        "            ConvBlock(64, 64, kernel_size=1, stride=1, padding=0),\n",
        "            ConvBlock(64, 192, kernel_size=3, stride=1, padding=1),\n",
        "        )\n",
        "\n",
        "        self.inception3a = InceptionBlock(192, 64, 96, 128, 16, 32, 32)\n",
        "        self.inception3b = InceptionBlock(256, 128, 128, 192, 32, 96, 64)\n",
        "        \n",
        "        self.inception4a = InceptionBlock(480, 192, 96, 208, 16, 48, 64)\n",
        "        self.inception4b = InceptionBlock(512, 160, 112, 224, 24, 64, 64)\n",
        "        self.inception4c = InceptionBlock(512, 128, 128, 256, 24, 64, 64)\n",
        "        self.inception4d = InceptionBlock(512, 112, 144, 288, 32, 64, 64)\n",
        "        self.inception4e = InceptionBlock(528, 256, 160, 320, 32, 128, 128)\n",
        "        \n",
        "        self.inception5a = InceptionBlock(832, 256, 160, 320, 32, 128, 128)\n",
        "        self.inception5b = InceptionBlock(832, 384, 192, 384, 48, 128, 128)\n",
        "        \n",
        "        self.avgpool = nn.AvgPool2d(kernel_size=7, stride=1)\n",
        "        self.dropout = nn.Dropout(p=0.4)\n",
        "        self.fc = nn.Linear(in_features=1024, out_features=num_classes)\n",
        "        \n",
        "        # Initialise weights\n",
        "        for m in self.modules():\n",
        "            if isinstance(m, nn.Conv2d):\n",
        "                init.xavier_uniform_(m.weight)\n",
        "                if m.bias is not None:\n",
        "                    init.constant_(m.bias, 0)\n",
        "            elif isinstance(m, nn.Linear):\n",
        "                init.xavier_uniform_(m.weight)\n",
        "                init.constant_(m.bias, 0)\n",
        "            elif isinstance(m, nn.BatchNorm2d):\n",
        "                nn.init.constant_(m.weight, 1)\n",
        "                nn.init.constant_(m.bias, 0)\n",
        "\n",
        "    def forward(self, input):\n",
        "        x = self.conv1(input)\n",
        "        x = self.maxpool(x)\n",
        "        x = self.conv2(x)\n",
        "        x = self.maxpool(x)\n",
        "        x = self.inception3a(x)\n",
        "        x = self.inception3b(x)\n",
        "        x = self.maxpool(x)\n",
        "        x = self.inception4a(x)\n",
        "        x = self.inception4b(x)\n",
        "        x = self.inception4c(x)\n",
        "        x = self.inception4d(x)\n",
        "        x = self.inception4e(x)\n",
        "        x = self.maxpool(x)\n",
        "        x = self.inception5a(x)\n",
        "        x = self.inception5b(x)\n",
        "        x = self.avgpool(x)\n",
        "        x = torch.reshape(x, (x.shape[0], -1))\n",
        "        x = self.dropout(x)\n",
        "        x = self.fc(x)\n",
        "        \n",
        "        x = F.log_softmax(x, dim=1)\n",
        "        return x\n",
        "    \n",
        "\n",
        "class InceptionBlock(nn.Module):\n",
        "    def __init__(self, in_channels, out1, out3red, out3, out5red, out5, out1pool):\n",
        "        super(InceptionBlock, self).__init__()\n",
        "\n",
        "        self.branch1 = ConvBlock(in_channels, out1, kernel_size=1)\n",
        "        \n",
        "        self.branch2 = nn.Sequential(\n",
        "            ConvBlock(in_channels, out3red, kernel_size=1),\n",
        "            ConvBlock(out3red, out3, kernel_size=3, padding=1)\n",
        "        )\n",
        "        \n",
        "        self.branch3 = nn.Sequential(\n",
        "            ConvBlock(in_channels, out5red, kernel_size=1),\n",
        "            ConvBlock(out5red, out5, kernel_size=5, padding=2)\n",
        "        )\n",
        "        \n",
        "        self.branch4 = nn.Sequential(\n",
        "            nn.MaxPool2d(kernel_size=3, stride=1, padding=1),\n",
        "            ConvBlock(in_channels, out1pool, kernel_size=1)\n",
        "        )\n",
        "        \n",
        "    def forward(self, input):\n",
        "        branch1 = self.branch1(input)\n",
        "        branch2 = self.branch2(input)\n",
        "        branch3 = self.branch3(input)\n",
        "        branch4 = self.branch4(input)\n",
        "    \n",
        "        result = torch.cat((branch1, branch2, branch3, branch4), dim=1)\n",
        "        return result\n",
        "    \n",
        "    \n",
        "class ConvBlock(nn.Module):\n",
        "    def __init__(self, in_channels, out_channels, **kwargs):\n",
        "        super(ConvBlock, self).__init__()\n",
        "        self.conv = nn.Conv2d(in_channels, out_channels, **kwargs)\n",
        "        self.relu = nn.ReLU()\n",
        "        self.bn = nn.BatchNorm2d(out_channels)\n",
        "    \n",
        "    def forward(self, input):\n",
        "        x = self.conv(input)\n",
        "        x = self.bn(x)\n",
        "        x = self.relu(x)\n",
        "        return x"
      ]
    },
    {
      "cell_type": "code",
      "execution_count": 18,
      "id": "5f6a616d-8642-4c52-b356-f2bd61227461",
      "metadata": {
        "id": "5f6a616d-8642-4c52-b356-f2bd61227461",
        "tags": []
      },
      "outputs": [],
      "source": [
        "# Initialise the device for training, if gpu is available, device = 'cuda', else: device = 'cpu'\n",
        "device = torch.device('cuda' if torch.cuda.is_available() else 'cpu')\n",
        "\n",
        "# training parameters\n",
        "epochs = 15\n",
        "batch_size = 64\n",
        "learning_rate = 0.001\n",
        "momentum = 0.9\n",
        "weight_decay = 5*10e-4\n",
        "\n",
        "# Declare the network\n",
        "model = GoogLeNet(10).to(device)\n",
        "\n",
        "# Loss function - Cross Entropy \n",
        "loss_fn = nn.CrossEntropyLoss().to(device)\n",
        "\n",
        "# Optimizer - Stochastic Gradient Descent\n",
        "optimizer = torch.optim.SGD(model.parameters(), lr = learning_rate, momentum=momentum, weight_decay=weight_decay)\n",
        "scheduler = lr_scheduler.StepLR(optimizer, step_size=10, gamma=0.1)\n",
        "# .MultiStepLR(optimizer, milestones=[5,10], gamma=0.1)"
      ]
    },
    {
      "cell_type": "code",
      "execution_count": 19,
      "id": "d912a37c-95ff-4c46-afd5-023363467bf2",
      "metadata": {
        "tags": [],
        "id": "d912a37c-95ff-4c46-afd5-023363467bf2"
      },
      "outputs": [],
      "source": [
        "# Construct the dataset and data loader\n",
        "train_transform = transforms.Compose([\n",
        "    transforms.ToTensor(),\n",
        "    transforms.Lambda(lambda x: x.expand(3, -1, -1)), # change mnist to 3 channels instead of 1\n",
        "    transforms.Normalize((0.1307, 0.1307, 0.1307), (0.3081, 0.3081, 0.3081)),\n",
        "    transforms.Resize((224, 224)),\n",
        "    transforms.RandomHorizontalFlip()\n",
        "])\n",
        "\n",
        "test_transform = transforms.Compose([\n",
        "    transforms.ToTensor(),\n",
        "    transforms.Lambda(lambda x: x.expand(3, -1, -1)), # change mnist to 3 channels instead of 1\n",
        "    transforms.Normalize((0.1307, 0.1307, 0.1307), (0.3081, 0.3081, 0.3081)),\n",
        "    transforms.Resize((224, 224)),\n",
        "])\n",
        "\n",
        "train_data = datasets.MNIST(root='.', train=True, download=True, transform=train_transform)\n",
        "test_data = datasets.MNIST(root='.', train=False, download=True, transform=test_transform)\n",
        "\n",
        "train_dataloader = DataLoader(dataset=train_data, batch_size=batch_size, shuffle=True)\n",
        "test_dataloader = DataLoader(dataset=test_data, batch_size=batch_size, shuffle=True)\n"
      ]
    },
    {
      "cell_type": "code",
      "execution_count": 20,
      "id": "7337032a-275e-4733-a6a1-d8f71e46f850",
      "metadata": {
        "tags": [],
        "colab": {
          "base_uri": "https://localhost:8080/",
          "height": 104
        },
        "id": "7337032a-275e-4733-a6a1-d8f71e46f850",
        "outputId": "201d06a1-9dd3-4833-fce8-89bfba4a68ec"
      },
      "outputs": [
        {
          "output_type": "display_data",
          "data": {
            "text/plain": [
              "<IPython.core.display.HTML object>"
            ],
            "text/html": [
              "Tracking run with wandb version 0.15.2"
            ]
          },
          "metadata": {}
        },
        {
          "output_type": "display_data",
          "data": {
            "text/plain": [
              "<IPython.core.display.HTML object>"
            ],
            "text/html": [
              "Run data is saved locally in <code>/content/wandb/run-20230511_200535-xj9v88xt</code>"
            ]
          },
          "metadata": {}
        },
        {
          "output_type": "display_data",
          "data": {
            "text/plain": [
              "<IPython.core.display.HTML object>"
            ],
            "text/html": [
              "Syncing run <strong><a href='https://wandb.ai/temitope-joloko/GoogLeNet-MNIST/runs/xj9v88xt' target=\"_blank\">kind-cosmos-17</a></strong> to <a href='https://wandb.ai/temitope-joloko/GoogLeNet-MNIST' target=\"_blank\">Weights & Biases</a> (<a href='https://wandb.me/run' target=\"_blank\">docs</a>)<br/>"
            ]
          },
          "metadata": {}
        },
        {
          "output_type": "display_data",
          "data": {
            "text/plain": [
              "<IPython.core.display.HTML object>"
            ],
            "text/html": [
              " View project at <a href='https://wandb.ai/temitope-joloko/GoogLeNet-MNIST' target=\"_blank\">https://wandb.ai/temitope-joloko/GoogLeNet-MNIST</a>"
            ]
          },
          "metadata": {}
        },
        {
          "output_type": "display_data",
          "data": {
            "text/plain": [
              "<IPython.core.display.HTML object>"
            ],
            "text/html": [
              " View run at <a href='https://wandb.ai/temitope-joloko/GoogLeNet-MNIST/runs/xj9v88xt' target=\"_blank\">https://wandb.ai/temitope-joloko/GoogLeNet-MNIST/runs/xj9v88xt</a>"
            ]
          },
          "metadata": {}
        }
      ],
      "source": [
        "# Login to wandb\n",
        "wandb.login()\n",
        "\n",
        "# Initialize wandb\n",
        "run = wandb.init(\n",
        "    # set the wandb project where this run will be logged\n",
        "    project=\"GoogLeNet-MNIST\",\n",
        "    \n",
        "    # track hyperparameters and run metadata\n",
        "    config={\n",
        "        \"architecture\": \"GoogLeNet\",\n",
        "        \"dataset\": \"MNIST\",\n",
        "        \"epochs\": epochs,\n",
        "        \"batch_size\": batch_size,\n",
        "        \"learning_rate\": learning_rate,\n",
        "        \"momentum\": momentum,\n",
        "        \"written_model\": \"yes\",\n",
        "        \"with relu\":\"yes\",\n",
        "        \"data-augmentation\":\"hflip 0.5\",\n",
        "        \"others\": \"dropout 0.4, steplr scheduler 10, 0.1 gamma. batch norm weight init\",\n",
        "        \"optimizer\": \"sgd\",\n",
        "        \"log_softmax\": \"yes\",\n",
        "        \"weight_decay\": weight_decay,\n",
        "    }\n",
        ")\n",
        "\n",
        "# Keep track of training and test loss\n",
        "total_loss = [[], [], []]\n"
      ]
    },
    {
      "cell_type": "code",
      "execution_count": 21,
      "id": "LtP6XFhiiGiK",
      "metadata": {
        "id": "LtP6XFhiiGiK",
        "tags": []
      },
      "outputs": [],
      "source": [
        "def train_loop(dataloader, model, loss_fn, optimizer):\n",
        "    size = len(dataloader.dataset)\n",
        "    running_loss = []\n",
        "\n",
        "    for (images, labels) in tqdm(dataloader):\n",
        "        images = images.to(device)\n",
        "        labels = labels.to(device)\n",
        "\n",
        "        # Compute prediction and loss\n",
        "        pred = model(images)\n",
        "        loss = loss_fn(pred, labels)\n",
        "\n",
        "        # Backpropagation\n",
        "        optimizer.zero_grad()\n",
        "        loss.backward()\n",
        "        optimizer.step()\n",
        "\n",
        "        running_loss.append(loss.item())\n",
        "\n",
        "    epoch_loss = np.mean(running_loss)\n",
        "    print(f'loss: {epoch_loss:.3f}')\n",
        "    return epoch_loss\n",
        "\n",
        "\n",
        "def test_loop(dataloader, model, loss_fn):\n",
        "    size = len(dataloader.dataset)\n",
        "    num_batches = len(dataloader)\n",
        "    test_loss, correct, correct_5 = 0, 0, 0\n",
        "\n",
        "    with torch.no_grad():\n",
        "        for images, labels in dataloader:\n",
        "            images = images.to(device)\n",
        "            labels = labels.to(device)\n",
        "            pred = model(images)\n",
        "            \n",
        "            test_loss += loss_fn(pred, labels).item()\n",
        "            correct += (pred.argmax(1) == labels).type(torch.float).sum().item()\n",
        "            \n",
        "            # Calculate top-5 accuracy\n",
        "            _, pred_5 = pred.topk(5)\n",
        "\n",
        "            for i in range(len(labels)):\n",
        "                if labels[i] in pred_5[i]:\n",
        "                    correct_5 += 1\n",
        "\n",
        "\n",
        "    test_loss /= num_batches\n",
        "    correct /= size\n",
        "    correct_5/=size\n",
        "    print(f\"Test Error: \\n Accuracy: {(100*correct):>0.1f}%, Top-5 Accuracy: {(100*correct_5):>0.1f}%, \\n Loss: {test_loss:>8f} \\n\")\n",
        "    \n",
        "    return test_loss, correct*100, correct_5*100"
      ]
    },
    {
      "cell_type": "code",
      "execution_count": null,
      "id": "nJlKcfOui3me",
      "metadata": {
        "colab": {
          "base_uri": "https://localhost:8080/"
        },
        "id": "nJlKcfOui3me",
        "outputId": "a786726f-a18b-45c6-b93b-9eac712f02f5",
        "tags": []
      },
      "outputs": [
        {
          "metadata": {
            "tags": null
          },
          "name": "stdout",
          "output_type": "stream",
          "text": [
            "Starting Training Loop...\n",
            "Epoch 1\n",
            "-------------------------------\n"
          ]
        },
        {
          "metadata": {
            "tags": null
          },
          "name": "stderr",
          "output_type": "stream",
          "text": [
            "100%|██████████| 938/938 [02:50<00:00,  5.49it/s]\n"
          ]
        },
        {
          "metadata": {
            "tags": null
          },
          "name": "stdout",
          "output_type": "stream",
          "text": [
            "loss: 0.422\n",
            "Test Error: \n",
            " Accuracy: 95.8%, Top-5 Accuracy: 99.9%, \n",
            " Loss: 0.135816 \n",
            "\n",
            "current lr [0.001]\n",
            "Epoch 1 of 15 with 190.09 s\n",
            "Epoch 2\n",
            "-------------------------------\n"
          ]
        },
        {
          "metadata": {
            "tags": null
          },
          "name": "stderr",
          "output_type": "stream",
          "text": [
            "100%|██████████| 938/938 [02:51<00:00,  5.48it/s]\n"
          ]
        },
        {
          "metadata": {
            "tags": null
          },
          "name": "stdout",
          "output_type": "stream",
          "text": [
            "loss: 0.100\n",
            "Test Error: \n",
            " Accuracy: 97.3%, Top-5 Accuracy: 100.0%, \n",
            " Loss: 0.090657 \n",
            "\n",
            "current lr [0.001]\n",
            "Epoch 2 of 15 with 189.95 s\n",
            "Epoch 3\n",
            "-------------------------------\n"
          ]
        },
        {
          "metadata": {
            "tags": null
          },
          "name": "stderr",
          "output_type": "stream",
          "text": [
            "100%|██████████| 938/938 [02:50<00:00,  5.49it/s]\n"
          ]
        },
        {
          "metadata": {
            "tags": null
          },
          "name": "stdout",
          "output_type": "stream",
          "text": [
            "loss: 0.072\n",
            "Test Error: \n",
            " Accuracy: 97.4%, Top-5 Accuracy: 100.0%, \n",
            " Loss: 0.085506 \n",
            "\n",
            "current lr [0.001]\n",
            "Epoch 3 of 15 with 189.49 s\n",
            "Epoch 4\n",
            "-------------------------------\n"
          ]
        },
        {
          "metadata": {
            "tags": null
          },
          "name": "stderr",
          "output_type": "stream",
          "text": [
            "100%|██████████| 938/938 [02:50<00:00,  5.51it/s]\n"
          ]
        },
        {
          "metadata": {
            "tags": null
          },
          "name": "stdout",
          "output_type": "stream",
          "text": [
            "loss: 0.056\n",
            "Test Error: \n",
            " Accuracy: 98.0%, Top-5 Accuracy: 100.0%, \n",
            " Loss: 0.069450 \n",
            "\n",
            "current lr [0.001]\n",
            "Epoch 4 of 15 with 189.40 s\n",
            "Epoch 5\n",
            "-------------------------------\n"
          ]
        },
        {
          "metadata": {
            "tags": null
          },
          "name": "stderr",
          "output_type": "stream",
          "text": [
            "100%|██████████| 938/938 [02:50<00:00,  5.52it/s]\n"
          ]
        },
        {
          "metadata": {
            "tags": null
          },
          "name": "stdout",
          "output_type": "stream",
          "text": [
            "loss: 0.049\n",
            "Test Error: \n",
            " Accuracy: 97.9%, Top-5 Accuracy: 100.0%, \n",
            " Loss: 0.065828 \n",
            "\n",
            "current lr [0.001]\n",
            "Epoch 5 of 15 with 189.21 s\n",
            "Epoch 6\n",
            "-------------------------------\n"
          ]
        },
        {
          "metadata": {
            "tags": null
          },
          "name": "stderr",
          "output_type": "stream",
          "text": [
            "100%|██████████| 938/938 [02:50<00:00,  5.50it/s]\n"
          ]
        },
        {
          "metadata": {
            "tags": null
          },
          "name": "stdout",
          "output_type": "stream",
          "text": [
            "loss: 0.043\n",
            "Test Error: \n",
            " Accuracy: 98.3%, Top-5 Accuracy: 100.0%, \n",
            " Loss: 0.062203 \n",
            "\n",
            "current lr [0.001]\n",
            "Epoch 6 of 15 with 189.17 s\n",
            "Epoch 7\n",
            "-------------------------------\n"
          ]
        },
        {
          "metadata": {
            "tags": null
          },
          "name": "stderr",
          "output_type": "stream",
          "text": [
            "100%|██████████| 938/938 [02:50<00:00,  5.50it/s]\n"
          ]
        },
        {
          "metadata": {
            "tags": null
          },
          "name": "stdout",
          "output_type": "stream",
          "text": [
            "loss: 0.040\n",
            "Test Error: \n",
            " Accuracy: 98.1%, Top-5 Accuracy: 100.0%, \n",
            " Loss: 0.063916 \n",
            "\n",
            "current lr [0.001]\n",
            "Epoch 7 of 15 with 189.11 s\n",
            "Epoch 8\n",
            "-------------------------------\n"
          ]
        },
        {
          "metadata": {
            "tags": null
          },
          "name": "stderr",
          "output_type": "stream",
          "text": [
            "100%|██████████| 938/938 [02:50<00:00,  5.51it/s]\n"
          ]
        },
        {
          "metadata": {
            "tags": null
          },
          "name": "stdout",
          "output_type": "stream",
          "text": [
            "loss: 0.037\n",
            "Test Error: \n",
            " Accuracy: 98.3%, Top-5 Accuracy: 100.0%, \n",
            " Loss: 0.056561 \n",
            "\n",
            "current lr [0.001]\n",
            "Epoch 8 of 15 with 189.65 s\n",
            "Epoch 9\n",
            "-------------------------------\n"
          ]
        },
        {
          "metadata": {
            "tags": null
          },
          "name": "stderr",
          "output_type": "stream",
          "text": [
            "100%|██████████| 938/938 [02:50<00:00,  5.51it/s]\n"
          ]
        },
        {
          "metadata": {
            "tags": null
          },
          "name": "stdout",
          "output_type": "stream",
          "text": [
            "loss: 0.034\n",
            "Test Error: \n",
            " Accuracy: 98.5%, Top-5 Accuracy: 100.0%, \n",
            " Loss: 0.050591 \n",
            "\n",
            "current lr [0.001]\n",
            "Epoch 9 of 15 with 189.40 s\n",
            "Epoch 10\n",
            "-------------------------------\n"
          ]
        },
        {
          "metadata": {
            "tags": null
          },
          "name": "stderr",
          "output_type": "stream",
          "text": [
            "100%|██████████| 938/938 [02:49<00:00,  5.52it/s]\n"
          ]
        },
        {
          "metadata": {
            "tags": null
          },
          "name": "stdout",
          "output_type": "stream",
          "text": [
            "loss: 0.031\n",
            "Test Error: \n",
            " Accuracy: 98.4%, Top-5 Accuracy: 100.0%, \n",
            " Loss: 0.051939 \n",
            "\n",
            "current lr [0.001]\n",
            "Epoch 10 of 15 with 188.86 s\n",
            "Epoch 11\n",
            "-------------------------------\n"
          ]
        },
        {
          "metadata": {
            "tags": null
          },
          "name": "stderr",
          "output_type": "stream",
          "text": [
            "100%|██████████| 938/938 [02:49<00:00,  5.53it/s]\n"
          ]
        },
        {
          "metadata": {
            "tags": null
          },
          "name": "stdout",
          "output_type": "stream",
          "text": [
            "loss: 0.032\n",
            "Test Error: \n",
            " Accuracy: 98.5%, Top-5 Accuracy: 100.0%, \n",
            " Loss: 0.050682 \n",
            "\n",
            "current lr [0.001]\n",
            "Epoch 11 of 15 with 188.45 s\n",
            "Epoch 12\n",
            "-------------------------------\n"
          ]
        },
        {
          "metadata": {
            "tags": null
          },
          "name": "stderr",
          "output_type": "stream",
          "text": [
            "100%|██████████| 938/938 [02:49<00:00,  5.53it/s]\n"
          ]
        },
        {
          "metadata": {
            "tags": null
          },
          "name": "stdout",
          "output_type": "stream",
          "text": [
            "loss: 0.029\n",
            "Test Error: \n",
            " Accuracy: 98.3%, Top-5 Accuracy: 100.0%, \n",
            " Loss: 0.059533 \n",
            "\n",
            "current lr [0.001]\n",
            "Epoch 12 of 15 with 188.63 s\n",
            "Epoch 13\n",
            "-------------------------------\n"
          ]
        },
        {
          "metadata": {
            "tags": null
          },
          "name": "stderr",
          "output_type": "stream",
          "text": [
            "100%|██████████| 938/938 [02:49<00:00,  5.53it/s]\n"
          ]
        },
        {
          "metadata": {
            "tags": null
          },
          "name": "stdout",
          "output_type": "stream",
          "text": [
            "loss: 0.028\n",
            "Test Error: \n",
            " Accuracy: 98.2%, Top-5 Accuracy: 100.0%, \n",
            " Loss: 0.058219 \n",
            "\n",
            "current lr [0.001]\n",
            "Epoch 13 of 15 with 188.21 s\n",
            "Epoch 14\n",
            "-------------------------------\n"
          ]
        },
        {
          "metadata": {
            "tags": null
          },
          "name": "stderr",
          "output_type": "stream",
          "text": [
            "100%|██████████| 938/938 [02:50<00:00,  5.51it/s]\n"
          ]
        },
        {
          "metadata": {
            "tags": null
          },
          "name": "stdout",
          "output_type": "stream",
          "text": [
            "loss: 0.029\n",
            "Test Error: \n",
            " Accuracy: 98.3%, Top-5 Accuracy: 100.0%, \n",
            " Loss: 0.059972 \n",
            "\n",
            "current lr [0.001]\n",
            "Epoch 14 of 15 with 188.96 s\n",
            "Epoch 15\n",
            "-------------------------------\n"
          ]
        },
        {
          "output_type": "stream",
          "name": "stderr",
          "text": [
            " 57%|█████▋    | 534/938 [01:36<01:24,  4.80it/s]"
          ]
        }
      ],
      "source": [
        "print(\"Starting Training Loop...\")\n",
        "start_time = time.time()\n",
        "\n",
        "for t in range(epochs):\n",
        "    epoch_start_time = time.time()\n",
        "    print(f\"Epoch {t+1}\\n-------------------------------\")\n",
        "    \n",
        "    epoch_loss = train_loop(train_dataloader, model, loss_fn, optimizer)\n",
        "    test_loss, top1_accuracy, top5_accuracy = test_loop(test_dataloader, model, loss_fn)\n",
        "    \n",
        "    total_loss[0].append(t+1)\n",
        "    total_loss[1].append(epoch_loss)\n",
        "    total_loss[2].append(test_loss)\n",
        "    \n",
        "    wandb.log({ \"training_loss\": epoch_loss, \"test_loss\": test_loss, \"acc\": top1_accuracy, \"top5_accuracy\": top5_accuracy })\n",
        "\n",
        "    print(\"current lr\", scheduler.get_last_lr())\n",
        "    epoch_end_time = time.time()\n",
        "    per_epoch_ptime = epoch_end_time - epoch_start_time\n",
        "    print(\"Epoch %d of %d with %.2f s\" % (t + 1, epochs, per_epoch_ptime))\n",
        "\n",
        "\n",
        "print(\"Done!\")\n",
        "end_time = time.time()\n",
        "total_ptime = end_time - start_time\n",
        "print(\"Total time %.2f\" % (total_ptime))"
      ]
    },
    {
      "cell_type": "code",
      "execution_count": null,
      "id": "f37fca73-7981-4eb5-aa94-e5a4aa8ec46e",
      "metadata": {
        "id": "f37fca73-7981-4eb5-aa94-e5a4aa8ec46e"
      },
      "outputs": [],
      "source": [
        "test_loop(test_dataloader, model, loss_fn)"
      ]
    },
    {
      "cell_type": "code",
      "execution_count": 17,
      "id": "4c7ea278-a2c3-4c69-99de-09616bdde57d",
      "metadata": {
        "id": "4c7ea278-a2c3-4c69-99de-09616bdde57d",
        "colab": {
          "base_uri": "https://localhost:8080/",
          "height": 449
        },
        "outputId": "be4527d7-497d-420f-fece-de0b51113139"
      },
      "outputs": [
        {
          "output_type": "display_data",
          "data": {
            "text/plain": [
              "<Figure size 640x480 with 1 Axes>"
            ],
            "image/png": "[encoded data removed]"
          },
          "metadata": {}
        }
      ],
      "source": [
        "plt.plot(total_loss[0], total_loss[1], label = \"Training loss\")\n",
        "plt.plot(total_loss[0], total_loss[2], label = \"Test loss\")\n",
        "\n",
        "# Add labels and title to the plot\n",
        "plt.xlabel('Epoch')\n",
        "plt.ylabel('Loss')\n",
        "\n",
        "# Add legend\n",
        "plt.legend()\n",
        "\n",
        "# Show the plot\n",
        "plt.show()"
      ]
    },
    {
      "cell_type": "code",
      "execution_count": 16,
      "id": "e24f1db9-c744-4436-8f97-73c0ef7858bb",
      "metadata": {
        "tags": [],
        "colab": {
          "base_uri": "https://localhost:8080/",
          "height": 334,
          "referenced_widgets": [
            "d2271261741b45fdb9435bd9be3e76dd",
            "b21876abc0944e888ca3f9c164dd1acc",
            "08373c022aa9484b8583666263243342",
            "0cbc9f9fce2e4beaac01cb413426ad16",
            "275dc753eb774efaac137d5b0b8e5d11",
            "350fcbbfb73e44aebb958a4ddd532277",
            "57247692adca4c89b72127e4028fb188",
            "6d7958ef6400487cab7fa2fe2e8afdc7"
          ]
        },
        "id": "e24f1db9-c744-4436-8f97-73c0ef7858bb",
        "outputId": "65a3ca35-1e24-4af5-b558-5160e4b69b66"
      },
      "outputs": [
        {
          "output_type": "display_data",
          "data": {
            "text/plain": [
              "<IPython.core.display.HTML object>"
            ],
            "text/html": [
              "Waiting for W&B process to finish... <strong style=\"color:green\">(success).</strong>"
            ]
          },
          "metadata": {}
        },
        {
          "output_type": "display_data",
          "data": {
            "text/plain": [
              "VBox(children=(Label(value='0.001 MB of 0.012 MB uploaded (0.000 MB deduped)\\r'), FloatProgress(value=0.116257…"
            ],
            "application/vnd.jupyter.widget-view+json": {
              "version_major": 2,
              "version_minor": 0,
              "model_id": "d2271261741b45fdb9435bd9be3e76dd"
            }
          },
          "metadata": {}
        },
        {
          "output_type": "display_data",
          "data": {
            "text/plain": [
              "<IPython.core.display.HTML object>"
            ],
            "text/html": [
              "<style>\n",
              "    table.wandb td:nth-child(1) { padding: 0 10px; text-align: left ; width: auto;} td:nth-child(2) {text-align: left ; width: 100%}\n",
              "    .wandb-row { display: flex; flex-direction: row; flex-wrap: wrap; justify-content: flex-start; width: 100% }\n",
              "    .wandb-col { display: flex; flex-direction: column; flex-basis: 100%; flex: 1; padding: 10px; }\n",
              "    </style>\n",
              "<div class=\"wandb-row\"><div class=\"wandb-col\"><h3>Run history:</h3><br/><table class=\"wandb\"><tr><td>acc</td><td>▁▇▄█▃</td></tr><tr><td>test_loss</td><td>▆▁▆▃█</td></tr><tr><td>top5_accuracy</td><td>▁▆█▃▁</td></tr><tr><td>training_loss</td><td>█▁▁▂▂</td></tr></table><br/></div><div class=\"wandb-col\"><h3>Run summary:</h3><br/><table class=\"wandb\"><tr><td>acc</td><td>97.43</td></tr><tr><td>test_loss</td><td>0.10154</td></tr><tr><td>top5_accuracy</td><td>99.95</td></tr><tr><td>training_loss</td><td>0.08927</td></tr></table><br/></div></div>"
            ]
          },
          "metadata": {}
        },
        {
          "output_type": "display_data",
          "data": {
            "text/plain": [
              "<IPython.core.display.HTML object>"
            ],
            "text/html": [
              " View run <strong style=\"color:#cdcd00\">atomic-river-16</strong> at: <a href='https://wandb.ai/temitope-joloko/GoogLeNet-MNIST/runs/colmt3k9' target=\"_blank\">https://wandb.ai/temitope-joloko/GoogLeNet-MNIST/runs/colmt3k9</a><br/>Synced 5 W&B file(s), 0 media file(s), 0 artifact file(s) and 0 other file(s)"
            ]
          },
          "metadata": {}
        },
        {
          "output_type": "display_data",
          "data": {
            "text/plain": [
              "<IPython.core.display.HTML object>"
            ],
            "text/html": [
              "Find logs at: <code>./wandb/run-20230511_194807-colmt3k9/logs</code>"
            ]
          },
          "metadata": {}
        }
      ],
      "source": [
        "# Close wandb run\n",
        "run.finish()"
      ]
    },
    {
      "cell_type": "code",
      "execution_count": null,
      "id": "c513e6c1-b6b8-4656-8f59-84cd443c72b3",
      "metadata": {
        "tags": [],
        "id": "c513e6c1-b6b8-4656-8f59-84cd443c72b3"
      },
      "outputs": [],
      "source": [
        "# Save model\n",
        "torch.save(model, 'googlenet_mnist_trained_model.pth')"
      ]
    },
    {
      "cell_type": "code",
      "execution_count": null,
      "id": "a33fe538-1c6b-4c5e-be66-1d041dfa6d7e",
      "metadata": {
        "id": "a33fe538-1c6b-4c5e-be66-1d041dfa6d7e"
      },
      "outputs": [],
      "source": []
    },
    {
      "cell_type": "code",
      "execution_count": null,
      "id": "04d83fba-e0bb-4e4d-bd6c-5921fd387154",
      "metadata": {
        "id": "04d83fba-e0bb-4e4d-bd6c-5921fd387154"
      },
      "outputs": [],
      "source": []
    }
  ],
  "metadata": {
    "accelerator": "GPU",
    "colab": {
      "gpuType": "V100",
      "provenance": [],
      "machine_shape": "hm"
    },
    "gpuClass": "standard",
    "kernelspec": {
      "display_name": "Python 3 (ipykernel)",
      "language": "python",
      "name": "python3"
    },
    "language_info": {
      "codemirror_mode": {
        "name": "ipython",
        "version": 3
      },
      "file_extension": ".py",
      "mimetype": "text/x-python",
      "name": "python",
      "nbconvert_exporter": "python",
      "pygments_lexer": "ipython3",
      "version": "3.10.5"
    },
    "widgets": {
      "application/vnd.jupyter.widget-state+json": {
        "d2271261741b45fdb9435bd9be3e76dd": {
          "model_module": "@jupyter-widgets/controls",
          "model_name": "VBoxModel",
          "model_module_version": "1.5.0",
          "state": {
            "_dom_classes": [],
            "_model_module": "@jupyter-widgets/controls",
            "_model_module_version": "1.5.0",
            "_model_name": "VBoxModel",
            "_view_count": null,
            "_view_module": "@jupyter-widgets/controls",
            "_view_module_version": "1.5.0",
            "_view_name": "VBoxView",
            "box_style": "",
            "children": [
              "IPY_MODEL_b21876abc0944e888ca3f9c164dd1acc",
              "IPY_MODEL_08373c022aa9484b8583666263243342"
            ],
            "layout": "IPY_MODEL_0cbc9f9fce2e4beaac01cb413426ad16"
          }
        },
        "b21876abc0944e888ca3f9c164dd1acc": {
          "model_module": "@jupyter-widgets/controls",
          "model_name": "LabelModel",
          "model_module_version": "1.5.0",
          "state": {
            "_dom_classes": [],
            "_model_module": "@jupyter-widgets/controls",
            "_model_module_version": "1.5.0",
            "_model_name": "LabelModel",
            "_view_count": null,
            "_view_module": "@jupyter-widgets/controls",
            "_view_module_version": "1.5.0",
            "_view_name": "LabelView",
            "description": "",
            "description_tooltip": null,
            "layout": "IPY_MODEL_275dc753eb774efaac137d5b0b8e5d11",
            "placeholder": "​",
            "style": "IPY_MODEL_350fcbbfb73e44aebb958a4ddd532277",
            "value": "0.012 MB of 0.012 MB uploaded (0.000 MB deduped)\r"
          }
        },
        "08373c022aa9484b8583666263243342": {
          "model_module": "@jupyter-widgets/controls",
          "model_name": "FloatProgressModel",
          "model_module_version": "1.5.0",
          "state": {
            "_dom_classes": [],
            "_model_module": "@jupyter-widgets/controls",
            "_model_module_version": "1.5.0",
            "_model_name": "FloatProgressModel",
            "_view_count": null,
            "_view_module": "@jupyter-widgets/controls",
            "_view_module_version": "1.5.0",
            "_view_name": "ProgressView",
            "bar_style": "",
            "description": "",
            "description_tooltip": null,
            "layout": "IPY_MODEL_57247692adca4c89b72127e4028fb188",
            "max": 1,
            "min": 0,
            "orientation": "horizontal",
            "style": "IPY_MODEL_6d7958ef6400487cab7fa2fe2e8afdc7",
            "value": 1
          }
        },
        "0cbc9f9fce2e4beaac01cb413426ad16": {
          "model_module": "@jupyter-widgets/base",
          "model_name": "LayoutModel",
          "model_module_version": "1.2.0",
          "state": {
            "_model_module": "@jupyter-widgets/base",
            "_model_module_version": "1.2.0",
            "_model_name": "LayoutModel",
            "_view_count": null,
            "_view_module": "@jupyter-widgets/base",
            "_view_module_version": "1.2.0",
            "_view_name": "LayoutView",
            "align_content": null,
            "align_items": null,
            "align_self": null,
            "border": null,
            "bottom": null,
            "display": null,
            "flex": null,
            "flex_flow": null,
            "grid_area": null,
            "grid_auto_columns": null,
            "grid_auto_flow": null,
            "grid_auto_rows": null,
            "grid_column": null,
            "grid_gap": null,
            "grid_row": null,
            "grid_template_areas": null,
            "grid_template_columns": null,
            "grid_template_rows": null,
            "height": null,
            "justify_content": null,
            "justify_items": null,
            "left": null,
            "margin": null,
            "max_height": null,
            "max_width": null,
            "min_height": null,
            "min_width": null,
            "object_fit": null,
            "object_position": null,
            "order": null,
            "overflow": null,
            "overflow_x": null,
            "overflow_y": null,
            "padding": null,
            "right": null,
            "top": null,
            "visibility": null,
            "width": null
          }
        },
        "275dc753eb774efaac137d5b0b8e5d11": {
          "model_module": "@jupyter-widgets/base",
          "model_name": "LayoutModel",
          "model_module_version": "1.2.0",
          "state": {
            "_model_module": "@jupyter-widgets/base",
            "_model_module_version": "1.2.0",
            "_model_name": "LayoutModel",
            "_view_count": null,
            "_view_module": "@jupyter-widgets/base",
            "_view_module_version": "1.2.0",
            "_view_name": "LayoutView",
            "align_content": null,
            "align_items": null,
            "align_self": null,
            "border": null,
            "bottom": null,
            "display": null,
            "flex": null,
            "flex_flow": null,
            "grid_area": null,
            "grid_auto_columns": null,
            "grid_auto_flow": null,
            "grid_auto_rows": null,
            "grid_column": null,
            "grid_gap": null,
            "grid_row": null,
            "grid_template_areas": null,
            "grid_template_columns": null,
            "grid_template_rows": null,
            "height": null,
            "justify_content": null,
            "justify_items": null,
            "left": null,
            "margin": null,
            "max_height": null,
            "max_width": null,
            "min_height": null,
            "min_width": null,
            "object_fit": null,
            "object_position": null,
            "order": null,
            "overflow": null,
            "overflow_x": null,
            "overflow_y": null,
            "padding": null,
            "right": null,
            "top": null,
            "visibility": null,
            "width": null
          }
        },
        "350fcbbfb73e44aebb958a4ddd532277": {
          "model_module": "@jupyter-widgets/controls",
          "model_name": "DescriptionStyleModel",
          "model_module_version": "1.5.0",
          "state": {
            "_model_module": "@jupyter-widgets/controls",
            "_model_module_version": "1.5.0",
            "_model_name": "DescriptionStyleModel",
            "_view_count": null,
            "_view_module": "@jupyter-widgets/base",
            "_view_module_version": "1.2.0",
            "_view_name": "StyleView",
            "description_width": ""
          }
        },
        "57247692adca4c89b72127e4028fb188": {
          "model_module": "@jupyter-widgets/base",
          "model_name": "LayoutModel",
          "model_module_version": "1.2.0",
          "state": {
            "_model_module": "@jupyter-widgets/base",
            "_model_module_version": "1.2.0",
            "_model_name": "LayoutModel",
            "_view_count": null,
            "_view_module": "@jupyter-widgets/base",
            "_view_module_version": "1.2.0",
            "_view_name": "LayoutView",
            "align_content": null,
            "align_items": null,
            "align_self": null,
            "border": null,
            "bottom": null,
            "display": null,
            "flex": null,
            "flex_flow": null,
            "grid_area": null,
            "grid_auto_columns": null,
            "grid_auto_flow": null,
            "grid_auto_rows": null,
            "grid_column": null,
            "grid_gap": null,
            "grid_row": null,
            "grid_template_areas": null,
            "grid_template_columns": null,
            "grid_template_rows": null,
            "height": null,
            "justify_content": null,
            "justify_items": null,
            "left": null,
            "margin": null,
            "max_height": null,
            "max_width": null,
            "min_height": null,
            "min_width": null,
            "object_fit": null,
            "object_position": null,
            "order": null,
            "overflow": null,
            "overflow_x": null,
            "overflow_y": null,
            "padding": null,
            "right": null,
            "top": null,
            "visibility": null,
            "width": null
          }
        },
        "6d7958ef6400487cab7fa2fe2e8afdc7": {
          "model_module": "@jupyter-widgets/controls",
          "model_name": "ProgressStyleModel",
          "model_module_version": "1.5.0",
          "state": {
            "_model_module": "@jupyter-widgets/controls",
            "_model_module_version": "1.5.0",
            "_model_name": "ProgressStyleModel",
            "_view_count": null,
            "_view_module": "@jupyter-widgets/base",
            "_view_module_version": "1.2.0",
            "_view_name": "StyleView",
            "bar_color": null,
            "description_width": ""
          }
        }
      }
    }
  },
  "nbformat": 4,
  "nbformat_minor": 5
}