{
  "cells": [
    {
      "cell_type": "code",
      "execution_count": 58,
      "metadata": {
        "id": "MIm5G577iaVz"
      },
      "outputs": [],
      "source": [
        "import torch\n",
        "from torch import nn\n",
        "from torch import optim\n",
        "from torch.utils.data import Dataset\n",
        "from torch.utils.data import DataLoader\n",
        "import numpy as np\n",
        "\n",
        "from sklearn.cross_decomposition import PLSRegression\n",
        "from sklearn.tree import DecisionTreeRegressor\n",
        "from sklearn.svm import SVR\n",
        "\n",
        "import matplotlib.pyplot as plt"
      ]
    },
    {
      "attachments": {},
      "cell_type": "markdown",
      "metadata": {
        "id": "JWWNnnsCjc53"
      },
      "source": [
        "We will use the [FGNET dataset](https://yanweifu.github.io/FG_NET_data/) for this lab.It is a dataset for age estimation and face recognition across ages. It is composed of a total of 1,002 images with 82 people aged 0 to 69. It is often used for face verification across large age gaps. The dataset contains images ranging from child/young to adult/old.\n",
        "\n",
        "\n",
        "The `.npz` files `data_age` and `data_age_test` respectively, contain the precomputed AAM features for the dataset.\n"
      ]
    },
    {
      "cell_type": "code",
      "execution_count": 59,
      "metadata": {
        "id": "BrhYm9FejbbE"
      },
      "outputs": [],
      "source": [
        "train_file = 'data_age.npz'\n",
        "test_file = 'data_age_test.npz'\n",
        "train = np.load(train_file)\n",
        "test = np.load(test_file)"
      ]
    },
    {
      "cell_type": "code",
      "execution_count": 60,
      "metadata": {
        "id": "7wPQA6vTBSgG"
      },
      "outputs": [],
      "source": [
        "class FGNET(Dataset):\n",
        "    def __init__(self, data, labels):\n",
        "        super().__init__()\n",
        "        self.data = data\n",
        "        self.labels = labels\n",
        "    \n",
        "    def __len__(self):\n",
        "        return len(self.data)\n",
        "    \n",
        "    def __getitem__(self, idx):\n",
        "        return self.data[idx], self.labels[idx]\n",
        "\n",
        "train_data = FGNET(train['features'], train['labels'])\n",
        "test_data = FGNET(test['features'], test['labels'])\n",
        "\n",
        "\n",
        "train_loader = DataLoader(train_data, batch_size=64, shuffle=True)\n",
        "test_loader = DataLoader(test_data, batch_size=64)"
      ]
    },
    {
      "attachments": {},
      "cell_type": "markdown",
      "metadata": {
        "id": "mGvd95z6G1y3"
      },
      "source": [
        "# 1. Linear Regression\n",
        "\n",
        "We will use pytorch [Linear](https://pytorch.org/docs/stable/generated/torch.nn.Linear.html) layer and Stochastic Gradient Descent [(SGD)](https://pytorch.org/docs/stable/generated/torch.optim.SGD.html?highlight=sgd) to do the age estimation. We will use the Mean Absolute Error [(MAE)](https://pytorch.org/docs/stable/generated/torch.nn.L1Loss.html?highlight=mae)\n",
        "\n",
        "Task 1: Train a linear regression model using pytorch on Age Estimation."
      ]
    },
    {
      "cell_type": "code",
      "execution_count": 65,
      "metadata": {
        "id": "rLzT2eCIIthJ"
      },
      "outputs": [],
      "source": [
        "### YOUR CODE HERE\n",
        "# Step 1: Create a sequential model with a single nn.Linear layer. \n",
        "# Set the number of inputs and outputs according to the dimensionality of \n",
        "# the features and labels accordingly\n",
        "model = nn.Sequential(nn.Linear(201, 1))\n",
        "\n",
        "# Step 2: Create an SGD optimizer\n",
        "# Hint: check pytorch API\n",
        "optimizer = optim.SGD(model.parameters(), lr=0.1)\n",
        "\n",
        "# Step 3: Create the mae criterion\n",
        "criterion = nn.L1Loss()\n",
        "\n",
        "# Step 4: Train the model\n",
        "for epoch in range(50):\n",
        "    for batch_idx, (inputs, targets) in enumerate(train_loader):\n",
        "        # print(inputs.dtype, targets.dtype)\n",
        "        optimizer.zero_grad()\n",
        "        outputs = model(inputs.to(torch.float32))\n",
        "        # print(\"outputs\", outputs)\n",
        "        loss = criterion(outputs, targets)\n",
        "        loss.backward()\n",
        "        optimizer.step()"
      ]
    },
    {
      "attachments": {},
      "cell_type": "markdown",
      "metadata": {
        "id": "aSyv9zRJLtax"
      },
      "source": [
        "Task 2: Apply the learned linear regressionmodel to estimate the age for each test data point. Compute the MAE and CS value (with a cumulative error level of 5) by comparing the estimated ages with the ground truth ages."
      ]
    },
    {
      "cell_type": "code",
      "execution_count": 66,
      "metadata": {
        "colab": {
          "base_uri": "https://localhost:8080/"
        },
        "id": "s0IgfGa5MA2C",
        "outputId": "1dc654ba-6c21-4d81-daac-77ee2fa210b4"
      },
      "outputs": [
        {
          "name": "stdout",
          "output_type": "stream",
          "text": [
            "MAE using trained linear regression model -  tensor(8.1156)\n"
          ]
        }
      ],
      "source": [
        "### YOUR CODE HERE\n",
        "test_data_samples = torch.from_numpy(test_data.data).float()\n",
        "test_data_labels = torch.from_numpy(test_data.labels)\n",
        "test_pred_lregr = model(test_data_samples)\n",
        "\n",
        "lregr_loss = nn.L1Loss()\n",
        "mae_lregr = lregr_loss(test_pred_lregr, test_data_labels)\n",
        "\n",
        "print(\"MAE using trained linear regression model - \", mae_lregr.detach())"
      ]
    },
    {
      "cell_type": "code",
      "execution_count": 67,
      "metadata": {
        "colab": {
          "base_uri": "https://localhost:8080/"
        },
        "id": "vRe0edUjlB1w",
        "outputId": "6603eee8-291d-47ab-a56b-95c2513d3b37"
      },
      "outputs": [
        {
          "name": "stdout",
          "output_type": "stream",
          "text": [
            "CS value using trained linear regression model -  33.46613545816733\n"
          ]
        }
      ],
      "source": [
        "abs_error_lregr = abs(test_pred_lregr - test_data_labels).detach()\n",
        "cummulative_err_lvl = 5\n",
        "\n",
        "def get_cum_score(arr, err_lvl):\n",
        "  count = 0\n",
        "  total = arr.shape[0]\n",
        "  for i in arr:\n",
        "    if (i <= err_lvl):\n",
        "      count += 1\n",
        "  result = (count/total) *100\n",
        "\n",
        "  return result\n",
        "\n",
        "cs_value = get_cum_score(abs_error_lregr, cummulative_err_lvl)\n",
        "print(\"CS value using trained linear regression model - \", cs_value)"
      ]
    },
    {
      "attachments": {},
      "cell_type": "markdown",
      "metadata": {
        "id": "-ViX8KRdMCcT"
      },
      "source": [
        "Vary the cumulative error level from 1 to 15 and generate a plot of the CS value against the cumulative error level."
      ]
    },
    {
      "cell_type": "code",
      "execution_count": 68,
      "metadata": {
        "colab": {
          "base_uri": "https://localhost:8080/",
          "height": 496
        },
        "id": "rhKq7a17MNr5",
        "outputId": "926107c5-034d-41bd-f96d-e82d8b3a38a6"
      },
      "outputs": [
        {
          "data": {
            "image/png": "[encoded data removed]",
            "text/plain": [
              "<Figure size 640x480 with 1 Axes>"
            ]
          },
          "metadata": {},
          "output_type": "display_data"
        }
      ],
      "source": [
        "### YOUR CODE HERE\n",
        "error_levels = list(range(1, 16))\n",
        "cs_values = []\n",
        "\n",
        "for lvl in error_levels:\n",
        "  value = get_cum_score(abs_error_lregr, lvl)\n",
        "  cs_values.append(value)\n",
        "\n",
        "\n",
        "fig, ax = plt.subplots() \n",
        "ax.set_title('Plot of CS value against the cummulative error level', fontsize=14, pad=20.0)\n",
        "ax.set_xlabel('Cummulative error level', fontsize=12)\n",
        "ax.set_ylabel('CS value', fontsize=12)\n",
        "ax.grid(True)\n",
        "ax.plot(error_levels, cs_values)\n",
        "ax.scatter(error_levels, cs_values)\n",
        "fig.show()"
      ]
    },
    {
      "attachments": {},
      "cell_type": "markdown",
      "metadata": {
        "id": "o6KUuuXUMPp5"
      },
      "source": [
        "# 2. PLS and Regression tree\n",
        "\n",
        "We will compare the results of the linear regression above with Partial Least Squares and Regression Tree methods.\n",
        "\n",
        "For this we will use scikit-learn [PLSRegression](https://scikit-learn.org/stable/modules/generated/sklearn.cross_decomposition.PLSRegression.html) and [DecisionTreeRegressor](https://scikit-learn.org/stable/modules/generated/sklearn.tree.DecisionTreeRegressor.html).\n",
        "\n",
        "Task 4: Compute the MAE and CS values (with cumulative error level of 5) for both partial least square regression model and the regression tree model."
      ]
    },
    {
      "cell_type": "code",
      "execution_count": 69,
      "metadata": {
        "id": "OYYWmN6sQRpl"
      },
      "outputs": [],
      "source": [
        "train_data, train_labels = train['features'], train['labels']\n",
        "test_data, test_labels = test['features'], test['labels']\n",
        "\n",
        "test_labels = torch.from_numpy(test_labels)"
      ]
    },
    {
      "cell_type": "code",
      "execution_count": 70,
      "metadata": {
        "colab": {
          "base_uri": "https://localhost:8080/"
        },
        "id": "ayrMREHPO6Ij",
        "outputId": "afd67621-5ad1-47b0-b4a7-b8a613597d39"
      },
      "outputs": [
        {
          "name": "stdout",
          "output_type": "stream",
          "text": [
            "MAE using PLS Regression -  tensor(6.8433, dtype=torch.float64)\n"
          ]
        }
      ],
      "source": [
        "### YOUR CODE HERE\n",
        "# PLS Regression\n",
        "pls_regr = PLSRegression()\n",
        "pls_regr.fit(train_data, train_labels)\n",
        "\n",
        "test_pred_pls = pls_regr.predict(test_data)\n",
        "test_pred_pls = torch.from_numpy(test_pred_pls)\n",
        "\n",
        "pls_loss = nn.L1Loss()\n",
        "mae_pls = pls_loss(test_pred_pls, test_labels)\n",
        "\n",
        "print(\"MAE using PLS Regression - \", mae_pls.detach())"
      ]
    },
    {
      "cell_type": "code",
      "execution_count": 71,
      "metadata": {
        "colab": {
          "base_uri": "https://localhost:8080/"
        },
        "id": "mSUbdwz9VQG6",
        "outputId": "6fb7a8d9-6594-45c4-f043-0dff9ca2b4b8"
      },
      "outputs": [
        {
          "name": "stdout",
          "output_type": "stream",
          "text": [
            "CS value using PLS Regression -  45.81673306772908\n"
          ]
        }
      ],
      "source": [
        "abs_error_pls = abs(test_pred_pls - test_labels)\n",
        "cummulative_err_lvl = 5\n",
        "\n",
        "cs_value = get_cum_score(abs_error_pls, cummulative_err_lvl)\n",
        "print(\"CS value using PLS Regression - \", cs_value)"
      ]
    },
    {
      "cell_type": "code",
      "execution_count": 76,
      "metadata": {
        "colab": {
          "base_uri": "https://localhost:8080/"
        },
        "id": "OropbF23O-5C",
        "outputId": "dcccb746-7468-4b11-9d0a-5f3aaa787804"
      },
      "outputs": [
        {
          "name": "stdout",
          "output_type": "stream",
          "text": [
            "MAE using Decision Tree Regressor -  tensor(7.6155, dtype=torch.float64)\n"
          ]
        }
      ],
      "source": [
        "### YOUR CODE HERE\n",
        "# Regression Tree\n",
        "dtree_regr = DecisionTreeRegressor(criterion='absolute_error')\n",
        "dtree_regr.fit(train_data, train_labels)\n",
        "\n",
        "test_pred_dtree = dtree_regr.predict(test_data)\n",
        "test_pred_dtree = torch.from_numpy(test_pred_dtree.reshape(test_labels.shape))\n",
        "\n",
        "dtree_loss = nn.L1Loss()\n",
        "mae_dtree = dtree_loss(test_pred_dtree, test_labels)\n",
        "\n",
        "print(\"MAE using Decision Tree Regressor - \", mae_dtree)"
      ]
    },
    {
      "cell_type": "code",
      "execution_count": 77,
      "metadata": {
        "colab": {
          "base_uri": "https://localhost:8080/"
        },
        "id": "KyGCVIvFWM4l",
        "outputId": "cef31fd4-4e11-4215-ec61-7060cdf7ee21"
      },
      "outputs": [
        {
          "name": "stdout",
          "output_type": "stream",
          "text": [
            "CS value using Decision Tree Regressor -  55.37848605577689\n"
          ]
        }
      ],
      "source": [
        "abs_error_dtree = abs(test_pred_dtree - test_labels)\n",
        "cummulative_err_lvl = 5\n",
        "\n",
        "cs_value = get_cum_score(abs_error_dtree, cummulative_err_lvl)\n",
        "print(\"CS value using Decision Tree Regressor - \", cs_value)"
      ]
    },
    {
      "attachments": {},
      "cell_type": "markdown",
      "metadata": {
        "id": "dC_kOzT0PD-F"
      },
      "source": [
        "# 3. SVR\n",
        "\n",
        "Task 5:  Compute the MAE and CS values (with cumulative error level of 5) for Support Vector Regression."
      ]
    },
    {
      "cell_type": "code",
      "execution_count": 78,
      "metadata": {
        "colab": {
          "base_uri": "https://localhost:8080/"
        },
        "id": "QF1v0PqFQDWc",
        "outputId": "9324ab4e-bf16-45ea-af51-007ab0bea2ba"
      },
      "outputs": [
        {
          "name": "stdout",
          "output_type": "stream",
          "text": [
            "MAE using Support Vector Regression -  tensor(5.6501, dtype=torch.float64)\n"
          ]
        }
      ],
      "source": [
        "### YOUR CODE HERE\n",
        "sv_regr = SVR(kernel='poly')\n",
        "sv_regr.fit(train_data, train_labels.reshape(-1))\n",
        "\n",
        "test_pred_svr = sv_regr.predict(test_data)\n",
        "test_pred_svr = torch.from_numpy(test_pred_svr.reshape(test_labels.shape))\n",
        "\n",
        "svr_loss = nn.L1Loss()\n",
        "mae_svr = svr_loss(test_pred_svr, test_labels)\n",
        "\n",
        "print(\"MAE using Support Vector Regression - \", mae_svr)"
      ]
    },
    {
      "cell_type": "code",
      "execution_count": 79,
      "metadata": {
        "colab": {
          "base_uri": "https://localhost:8080/"
        },
        "id": "sQ4PfXoNXSJS",
        "outputId": "50e31d43-b682-4026-fb02-c8fbb36d5c16"
      },
      "outputs": [
        {
          "name": "stdout",
          "output_type": "stream",
          "text": [
            "CS value using Support Vector Regression -  57.96812749003985\n"
          ]
        }
      ],
      "source": [
        "abs_error_svr = abs(test_pred_svr - test_labels)\n",
        "cummulative_err_lvl = 5\n",
        "\n",
        "cs_value = get_cum_score(abs_error_svr, cummulative_err_lvl)\n",
        "print(\"CS value using Support Vector Regression - \", cs_value)"
      ]
    }
  ],
  "metadata": {
    "colab": {
      "provenance": []
    },
    "gpuClass": "standard",
    "kernelspec": {
      "display_name": "Python 3",
      "name": "python3"
    },
    "language_info": {
      "name": "python"
    }
  },
  "nbformat": 4,
  "nbformat_minor": 0
}
